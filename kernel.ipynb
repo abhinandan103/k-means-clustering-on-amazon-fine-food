{
 "cells": [
  {
   "cell_type": "markdown",
   "metadata": {
    "_uuid": "7122018aa0b58f275972c27eb793f75621baa8d4"
   },
   "source": [
    "# Objective"
   ]
  },
  {
   "cell_type": "markdown",
   "metadata": {
    "_uuid": "38759ba62184eea1aef8c4d26c76afc73cc5e73c"
   },
   "source": [
    "#### performing k-means clustring on amazon fine food review"
   ]
  },
  {
   "cell_type": "code",
   "execution_count": 1,
   "metadata": {
    "_uuid": "d8c9460806a568a10f08d16de869657697826735"
   },
   "outputs": [
    {
     "name": "stderr",
     "output_type": "stream",
     "text": [
      "C:\\ProgramData\\Anaconda3\\lib\\site-packages\\sklearn\\cross_validation.py:41: DeprecationWarning: This module was deprecated in version 0.18 in favor of the model_selection module into which all the refactored classes and functions are moved. Also note that the interface of the new CV iterators are different from that of this module. This module will be removed in 0.20.\n",
      "  \"This module will be removed in 0.20.\", DeprecationWarning)\n"
     ]
    }
   ],
   "source": [
    "import numpy as np\n",
    "import pandas as pd\n",
    "import matplotlib.pyplot as plt\n",
    "from sklearn.cross_validation import train_test_split\n",
    "from sklearn.neighbors import KNeighborsClassifier\n",
    "from sklearn.metrics import accuracy_score\n",
    "from sklearn.cross_validation import cross_val_score\n",
    "from collections import Counter\n",
    "from sklearn.metrics import accuracy_score\n",
    "from sklearn import cross_validation\n",
    "import numpy as np\n",
    "import matplotlib.pyplot as plt\n",
    "from sklearn import datasets, neighbors\n",
    "import nltk\n",
    "import string\n",
    "from sklearn.feature_extraction.text import TfidfTransformer\n",
    "from sklearn.feature_extraction.text import TfidfVectorizer\n",
    "from sklearn.feature_extraction.text import CountVectorizer\n",
    "from sklearn.metrics import confusion_matrix\n",
    "from sklearn import metrics\n",
    "from sklearn.metrics import roc_curve, auc\n",
    "from nltk.stem.porter import PorterStemmer"
   ]
  },
  {
   "cell_type": "code",
   "execution_count": 2,
   "metadata": {
    "_uuid": "ef3d2a2d72503a33577a999dc384c990a9dfb564"
   },
   "outputs": [],
   "source": [
    "filtered_data = pd.read_csv('./Reviews.csv')"
   ]
  },
  {
   "cell_type": "code",
   "execution_count": 3,
   "metadata": {
    "_uuid": "af0163acc8cb53a97dd033b7ffe4e316587cce12",
    "scrolled": false
   },
   "outputs": [
    {
     "data": {
      "text/html": [
       "<div>\n",
       "<style scoped>\n",
       "    .dataframe tbody tr th:only-of-type {\n",
       "        vertical-align: middle;\n",
       "    }\n",
       "\n",
       "    .dataframe tbody tr th {\n",
       "        vertical-align: top;\n",
       "    }\n",
       "\n",
       "    .dataframe thead th {\n",
       "        text-align: right;\n",
       "    }\n",
       "</style>\n",
       "<table border=\"1\" class=\"dataframe\">\n",
       "  <thead>\n",
       "    <tr style=\"text-align: right;\">\n",
       "      <th></th>\n",
       "      <th>Id</th>\n",
       "      <th>ProductId</th>\n",
       "      <th>UserId</th>\n",
       "      <th>ProfileName</th>\n",
       "      <th>HelpfulnessNumerator</th>\n",
       "      <th>HelpfulnessDenominator</th>\n",
       "      <th>Score</th>\n",
       "      <th>Time</th>\n",
       "      <th>Summary</th>\n",
       "      <th>Text</th>\n",
       "    </tr>\n",
       "  </thead>\n",
       "  <tbody>\n",
       "    <tr>\n",
       "      <th>0</th>\n",
       "      <td>1</td>\n",
       "      <td>B001E4KFG0</td>\n",
       "      <td>A3SGXH7AUHU8GW</td>\n",
       "      <td>delmartian</td>\n",
       "      <td>1</td>\n",
       "      <td>1</td>\n",
       "      <td>5</td>\n",
       "      <td>1303862400</td>\n",
       "      <td>Good Quality Dog Food</td>\n",
       "      <td>I have bought several of the Vitality canned d...</td>\n",
       "    </tr>\n",
       "    <tr>\n",
       "      <th>1</th>\n",
       "      <td>2</td>\n",
       "      <td>B00813GRG4</td>\n",
       "      <td>A1D87F6ZCVE5NK</td>\n",
       "      <td>dll pa</td>\n",
       "      <td>0</td>\n",
       "      <td>0</td>\n",
       "      <td>1</td>\n",
       "      <td>1346976000</td>\n",
       "      <td>Not as Advertised</td>\n",
       "      <td>Product arrived labeled as Jumbo Salted Peanut...</td>\n",
       "    </tr>\n",
       "    <tr>\n",
       "      <th>2</th>\n",
       "      <td>3</td>\n",
       "      <td>B000LQOCH0</td>\n",
       "      <td>ABXLMWJIXXAIN</td>\n",
       "      <td>Natalia Corres \"Natalia Corres\"</td>\n",
       "      <td>1</td>\n",
       "      <td>1</td>\n",
       "      <td>4</td>\n",
       "      <td>1219017600</td>\n",
       "      <td>\"Delight\" says it all</td>\n",
       "      <td>This is a confection that has been around a fe...</td>\n",
       "    </tr>\n",
       "    <tr>\n",
       "      <th>3</th>\n",
       "      <td>4</td>\n",
       "      <td>B000UA0QIQ</td>\n",
       "      <td>A395BORC6FGVXV</td>\n",
       "      <td>Karl</td>\n",
       "      <td>3</td>\n",
       "      <td>3</td>\n",
       "      <td>2</td>\n",
       "      <td>1307923200</td>\n",
       "      <td>Cough Medicine</td>\n",
       "      <td>If you are looking for the secret ingredient i...</td>\n",
       "    </tr>\n",
       "    <tr>\n",
       "      <th>4</th>\n",
       "      <td>5</td>\n",
       "      <td>B006K2ZZ7K</td>\n",
       "      <td>A1UQRSCLF8GW1T</td>\n",
       "      <td>Michael D. Bigham \"M. Wassir\"</td>\n",
       "      <td>0</td>\n",
       "      <td>0</td>\n",
       "      <td>5</td>\n",
       "      <td>1350777600</td>\n",
       "      <td>Great taffy</td>\n",
       "      <td>Great taffy at a great price.  There was a wid...</td>\n",
       "    </tr>\n",
       "  </tbody>\n",
       "</table>\n",
       "</div>"
      ],
      "text/plain": [
       "   Id   ProductId          UserId                      ProfileName  \\\n",
       "0   1  B001E4KFG0  A3SGXH7AUHU8GW                       delmartian   \n",
       "1   2  B00813GRG4  A1D87F6ZCVE5NK                           dll pa   \n",
       "2   3  B000LQOCH0   ABXLMWJIXXAIN  Natalia Corres \"Natalia Corres\"   \n",
       "3   4  B000UA0QIQ  A395BORC6FGVXV                             Karl   \n",
       "4   5  B006K2ZZ7K  A1UQRSCLF8GW1T    Michael D. Bigham \"M. Wassir\"   \n",
       "\n",
       "   HelpfulnessNumerator  HelpfulnessDenominator  Score        Time  \\\n",
       "0                     1                       1      5  1303862400   \n",
       "1                     0                       0      1  1346976000   \n",
       "2                     1                       1      4  1219017600   \n",
       "3                     3                       3      2  1307923200   \n",
       "4                     0                       0      5  1350777600   \n",
       "\n",
       "                 Summary                                               Text  \n",
       "0  Good Quality Dog Food  I have bought several of the Vitality canned d...  \n",
       "1      Not as Advertised  Product arrived labeled as Jumbo Salted Peanut...  \n",
       "2  \"Delight\" says it all  This is a confection that has been around a fe...  \n",
       "3         Cough Medicine  If you are looking for the secret ingredient i...  \n",
       "4            Great taffy  Great taffy at a great price.  There was a wid...  "
      ]
     },
     "execution_count": 3,
     "metadata": {},
     "output_type": "execute_result"
    }
   ],
   "source": [
    "filtered_data.head()"
   ]
  },
  {
   "cell_type": "code",
   "execution_count": 4,
   "metadata": {
    "_uuid": "76c9eb617c2396f0518744f0dc49bb27e7c5c014"
   },
   "outputs": [],
   "source": [
    "filtered_data.dropna(inplace=True)\n",
    "filtered_data[filtered_data['Score'] != 3]\n",
    "filtered_data['Score'] = np.where(filtered_data['Score'] > 3, 1, 0)\n",
    " "
   ]
  },
  {
   "cell_type": "code",
   "execution_count": 5,
   "metadata": {
    "_uuid": "d17347731b489895d0ca5344fa4627ce92665ecb"
   },
   "outputs": [],
   "source": [
    "#Deduplication of data\n",
    "final=filtered_data.drop_duplicates(subset={\"UserId\",\"ProfileName\",\"Time\",\"Text\"}, keep='first', inplace=False)\n",
    " "
   ]
  },
  {
   "cell_type": "code",
   "execution_count": 6,
   "metadata": {
    "_uuid": "78c38614f6f5d686095fa8d46de2adb1406cb16b"
   },
   "outputs": [],
   "source": [
    "#Helpfulness numerator is always less than or equal to the helpfulness denominator so we have to remove it\n",
    "final=final[final.HelpfulnessNumerator<=final.HelpfulnessDenominator]\n",
    " "
   ]
  },
  {
   "cell_type": "code",
   "execution_count": 7,
   "metadata": {
    "_uuid": "0af9d6b8463fc3e78eb625a0f14c78d8a3b53dd0"
   },
   "outputs": [],
   "source": [
    "new_data=final.sample(n=10000)"
   ]
  },
  {
   "cell_type": "code",
   "execution_count": 8,
   "metadata": {
    "_uuid": "69fbc7e65c7ea86ebefc323e2c825f5c70f40d0f"
   },
   "outputs": [],
   "source": [
    "final=new_data.sort_values('Time', axis=0, ascending=True, inplace=False, kind='quicksort', na_position='last')"
   ]
  },
  {
   "cell_type": "markdown",
   "metadata": {
    "_uuid": "386855cc42c4621a2c76028402154032852eaf08"
   },
   "source": [
    "# TEXT PREPROCESSING"
   ]
  },
  {
   "cell_type": "code",
   "execution_count": 9,
   "metadata": {
    "_uuid": "bc270d7013369f840ed3c748c668fd753af74382"
   },
   "outputs": [
    {
     "name": "stdout",
     "output_type": "stream",
     "text": [
      "{'hasn', \"isn't\", 'myself', 'from', 'the', 'while', 'against', 'few', 'out', 'won', 'when', 'had', 'your', 'if', \"she's\", 'shouldn', 'herself', 'y', 'did', 'any', 're', \"didn't\", 'now', 'on', 'nor', 'been', 'himself', 'its', 'aren', 'm', 'just', \"shan't\", 'are', 'a', 'i', 'can', 'why', \"weren't\", 'those', 'will', 'through', 'which', 'off', 'there', 'but', 'further', 'hers', \"hadn't\", 'yourself', 'by', 'here', \"should've\", 'after', 'am', \"don't\", 've', 'do', 'yours', \"shouldn't\", 'each', 'mustn', 'has', 'ourselves', 'too', \"doesn't\", 'wasn', 'between', 'most', 'needn', 'he', 'be', 'very', 'no', 'having', 'own', 'haven', 's', 'hadn', 'again', 'being', 'what', \"it's\", 'mightn', 'an', 'ain', 'where', 'were', \"hasn't\", 'with', 'in', 'our', 'these', 'until', 'before', 'below', 'once', 'both', 'should', \"you've\", \"you're\", 'ours', 'other', 'at', \"you'd\", 'of', 'they', \"won't\", 'to', 'or', 'weren', 'over', 'same', 'you', 'my', \"haven't\", 'as', 'under', 'their', \"mustn't\", 'up', 'she', \"that'll\", 'is', \"you'll\", 'don', 'and', \"wouldn't\", 'him', 'themselves', \"couldn't\", 'didn', 'we', 'during', 'not', 'doing', 'such', 'shan', 'isn', 'so', 'wouldn', 'into', 'about', 'couldn', 'd', 'because', 'then', 't', 'whom', 'll', 'it', 'was', 'above', \"wasn't\", 'o', 'some', \"mightn't\", 'them', 'than', 'does', 'this', 'ma', 'theirs', 'how', 'that', 'yourselves', 'his', 'down', 'only', 'doesn', 'me', \"needn't\", 'who', 'all', 'have', \"aren't\", 'more', 'itself', 'her', 'for'}\n",
      "************************************\n",
      "tasti\n"
     ]
    }
   ],
   "source": [
    "import re\n",
    "import string\n",
    "from nltk.corpus import stopwords\n",
    "from nltk.stem import PorterStemmer\n",
    "from nltk.stem.wordnet import WordNetLemmatizer\n",
    "\n",
    "stop = set(stopwords.words('english')) #set of stopwords\n",
    "sno = nltk.stem.SnowballStemmer('english') #initialising the snowball stemmer\n",
    "\n",
    "def cleanhtml(sentence): #function to clean the word of any html-tags\n",
    "    cleanr = re.compile('<.*?>')\n",
    "    cleantext = re.sub(cleanr, ' ', sentence)\n",
    "    return cleantext\n",
    "def cleanpunc(sentence): #function to clean the word of any punctuation or special characters\n",
    "    cleaned = re.sub(r'[?|!|\\'|\"|#]',r'',sentence)\n",
    "    cleaned = re.sub(r'[.|,|)|(|\\|/]',r' ',cleaned)\n",
    "    return  cleaned\n",
    "print(stop)\n",
    "print('************************************')\n",
    "print(sno.stem('tasty'))"
   ]
  },
  {
   "cell_type": "code",
   "execution_count": 10,
   "metadata": {
    "_uuid": "a4471b1291010fadc0b8c2eba3feae43d6630989"
   },
   "outputs": [],
   "source": [
    "i=0\n",
    "str1=' '\n",
    "final_string=[]\n",
    "all_positive_words=[] # store words from +ve reviews here\n",
    "all_negative_words=[] # store words from -ve reviews here.\n",
    "s=''\n",
    "for sent in final['Text'].values:\n",
    "    filtered_sentence=[]\n",
    "    #print(sent);\n",
    "    sent=cleanhtml(sent) # remove HTMl tags\n",
    "    for w in sent.split():\n",
    "        for cleaned_words in cleanpunc(w).split():\n",
    "            if((cleaned_words.isalpha()) & (len(cleaned_words)>2)):    \n",
    "                if(cleaned_words.lower() not in stop):\n",
    "                    s=(sno.stem(cleaned_words.lower())).encode('utf8')\n",
    "                    filtered_sentence.append(s)\n",
    "                    if (final['Score'].values)[i] == 'positive': \n",
    "                        all_positive_words.append(s) #list of all words used to describe positive reviews\n",
    "                    if(final['Score'].values)[i] == 'negative':\n",
    "                        all_negative_words.append(s) #list of all words used to describe negative reviews reviews\n",
    "                else:\n",
    "                    continue\n",
    "            else:\n",
    "                continue \n",
    "    #print(filtered_sentence)\n",
    "    str1 = b\" \".join(filtered_sentence) #final string of cleaned words\n",
    "    #print(\"***********************************************************************\")\n",
    "    \n",
    "    final_string.append(str1)\n",
    "    i+=1"
   ]
  },
  {
   "cell_type": "code",
   "execution_count": 11,
   "metadata": {
    "_uuid": "866a2d728c34be86ac44458ef896ac299dd91cc4"
   },
   "outputs": [],
   "source": [
    "final['CleanedText']=final_string"
   ]
  },
  {
   "cell_type": "code",
   "execution_count": 12,
   "metadata": {
    "_uuid": "210515364eac36e8e9d723004a626a0ecf0d9c34",
    "scrolled": true
   },
   "outputs": [],
   "source": [
    "final=final.reset_index(drop=True)\n",
    " "
   ]
  },
  {
   "cell_type": "code",
   "execution_count": 29,
   "metadata": {
    "_uuid": "64eb8487435676a184a11c45868b3922a5c0877e"
   },
   "outputs": [],
   "source": [
    "final_train=final['CleanedText']\n",
    " \n",
    "    \n",
    "    "
   ]
  },
  {
   "cell_type": "markdown",
   "metadata": {
    "_uuid": "0db74e13c32d405fdd4a0efbccaae7e448b381b5"
   },
   "source": [
    "# K-means BAG OF WORDS"
   ]
  },
  {
   "cell_type": "code",
   "execution_count": 14,
   "metadata": {
    "_uuid": "b6b701197574eb5d04f4ca99780d04773ceeb3dd"
   },
   "outputs": [],
   "source": [
    "count_vect = CountVectorizer() \n",
    "final_x = count_vect.fit_transform(final_train).toarray()"
   ]
  },
  {
   "cell_type": "code",
   "execution_count": 15,
   "metadata": {
    "_uuid": "909c4876f8509461e88c1fb63dc89d27508910aa"
   },
   "outputs": [
    {
     "name": "stderr",
     "output_type": "stream",
     "text": [
      "C:\\ProgramData\\Anaconda3\\lib\\site-packages\\sklearn\\utils\\validation.py:475: DataConversionWarning: Data with input dtype int64 was converted to float64 by StandardScaler.\n",
      "  warnings.warn(msg, DataConversionWarning)\n"
     ]
    }
   ],
   "source": [
    "from sklearn.preprocessing import StandardScaler\n",
    "scaler_bow=StandardScaler(with_mean=False)\n",
    "bow_scaled=scaler_bow.fit_transform(final_x )"
   ]
  },
  {
   "cell_type": "code",
   "execution_count": 16,
   "metadata": {
    "_uuid": "40e3e97b0cd70c6dd35bc3012d89ad37af9b4465"
   },
   "outputs": [],
   "source": [
    "wcss=[]\n",
    "from sklearn.cluster import KMeans\n",
    "for i in range(1, 20):\n",
    "    \n",
    "        \n",
    "    kmeans = KMeans(n_clusters = i, init = 'k-means++',random_state = 42)\n",
    "    kmeans.fit(bow_scaled)\n",
    "    wcss.append(kmeans.inertia_)"
   ]
  },
  {
   "cell_type": "code",
   "execution_count": 17,
   "metadata": {
    "_uuid": "bad64313e95da732f41fb15a78a2ff0db04fff57"
   },
   "outputs": [
    {
     "data": {
      "text/plain": [
       "Text(0,0.5,'Error Rate')"
      ]
     },
     "execution_count": 17,
     "metadata": {},
     "output_type": "execute_result"
    },
    {
     "data": {
      "image/png": "[encoded data removed]",
      "text/plain": [
       "<Figure size 720x432 with 1 Axes>"
      ]
     },
     "metadata": {},
     "output_type": "display_data"
    }
   ],
   "source": [
    "\n",
    "k=list(range(1,20))\n",
    "plt.figure(figsize=(10,6))\n",
    "plt.plot(k,wcss,color='blue', linestyle='dashed', marker='o', markerfacecolor='red', markersize=10)\n",
    "plt.grid()\n",
    "plt.title('Error Rate vs. K Value')\n",
    "plt.xlabel('K')\n",
    "plt.ylabel('Error Rate')"
   ]
  },
  {
   "cell_type": "markdown",
   "metadata": {},
   "source": [
    "### The best K observed is 15"
   ]
  },
  {
   "cell_type": "code",
   "execution_count": 18,
   "metadata": {
    "_uuid": "edf5223ade666c0f0ccb496d149925441338d16d"
   },
   "outputs": [
    {
     "data": {
      "text/plain": [
       "KMeans(algorithm='auto', copy_x=True, init='k-means++', max_iter=300,\n",
       "    n_clusters=15, n_init=10, n_jobs=1, precompute_distances='auto',\n",
       "    random_state=42, tol=0.0001, verbose=0)"
      ]
     },
     "execution_count": 18,
     "metadata": {},
     "output_type": "execute_result"
    }
   ],
   "source": [
    "from sklearn.cluster import KMeans\n",
    "kmeans = KMeans(n_clusters = 15, init = 'k-means++',random_state = 42)\n",
    "kmeans.fit(bow_scaled)"
   ]
  },
  {
   "cell_type": "code",
   "execution_count": 20,
   "metadata": {
    "_uuid": "a1a9f1d7dd645942d51b9230589beabe372c7e7c"
   },
   "outputs": [
    {
     "name": "stdout",
     "output_type": "stream",
     "text": [
      "Cluster #0\n",
      "\n",
      "The crunchy chocolate squares in this box were a real surprise and I love how delicate the crunch is when encased in a burst of delicious chocolate.<br /><br />You may also enjoy the Mint chocolates. They are delicious after dinner or anytime you want to wake up your taste buds. The mint flavor bursts from these chocolates as if it was encased in little sugar crystals. It is quite perfect and refreshing.<br /><br />I also love the Cinnamon and Orange. If you have been dreaming of the most delicious orange flavored chocolates in the world, you have to try the Orange Napolitains. I love both equally, although the cinnamon flavor has me completely seduced.<br /><br />I prefer to savor each piece of chocolate with a cup of coffee, tea or hot chocolate. The warmth of the beverage creates an entirely different experience than if you were to simply taste a square of chocolate on its own.<br /><br />Once your mouth is warmed, take a small bite of the chocolate square and enter Mint Chocolate Oblivion. The world stops for minutes at a time as you savor a mingling of the best cinnamon you have ever tasted with the silkiest creamiest Belgian chocolate in the world.<br /><br />My chocolates arrived fast and were as fresh as if I had purchased them in Belgium. They were carefully packaged in the famous gold boxes with signature wrapping and a ribbon. The boxes were then placed in protective Styrofoam containers to protect the chocolates during shipping. The expedited shipping is recommended from May to early September.<br /><br />~The Rebecca Review\n",
      "\n",
      "My first purchase was the assortment (milk choc, rich choc and milk choc w/marsmallows) but not for my use. I was planning ahead and wanted to add some of the packets with each Christmas gift I was giving to homes with children. Snowman 'tea' pots with matching snowman mugs, complete with 'lids' or heads with top hats. I also wanted some of envelopes of instant soup & noodles to throw into the empty pot just to show that the 'tea' pot wasn't actually for the adults' use or just for tea, but more for the kids after school snacks. No 'boiling water' for the cocoa; just hot water, stir and drink. However, I would never give a gift of an item I hadn't tasted myself, so I did. Now, I'm hooked. My favorite is the Rich Chocolate because if/when I do eat chocolate, it has to be dark, dark, dark. This 'rich' choice is heavenly. I did like the other two varieties also, the milk chocolate and the milk chocolate with the tiny marshmallows (that actually look like 2mm pebbles, but they are white and they do float...)<br /><br />In any event, I liked this stuff so much that I even tried mixing 2 flavors: i.e., milk choc and the rich - still good. Needless to say, I am back here to order more (and put it on Subscribe and Save) as the colder weather is coming and this is going to be a nice break from all the tea I drink.<br /><br />Pour envelope (or two) into a cup/mug. (One envelope requires only 3/4 Cup hot water, so if you're looking for an adult-sized coffee mug full, use two envelopes and double the water). I don't even measure the water anymore: just two envelopes and fill my mug about 3/4\" from the top. I like using a whisk to mix it up because it creates a bit of froth on the top that sticks to my upper lip and brings back great childhood memories!<br /><br />The powder dissolves rather easily, so even a young child could probably make his/her own that is not too hot to drink immediately. This is rich, creamy hot chocolate and I'm going to keep it on hand from now on. As with any hot chocolate, the chocolate does settle to the bottom of the mug, so one must keep stirring unless you are drinking it down in one gulp, so keeping a spoon handy is recommended.\n",
      "\n",
      "I'm a confirmed hot chocolate snob and yes, I admit I only really wanted a Keurig to make a really quick, banging cup of hot chocolate (and maybe not be on a first name basis with every employee at Dunkin Donuts).  In fact, I don't even drink coffee, so the quest for the perfect hot chocolate for the Keurig is not one I take lightly.<br /><br />Of the brands of hot chocolate I've tried that are made specifically for the Keurig, this one is the best.<br /><br />I tried a couple of brews before I reviewed this...  So here's the conclusion that I've come to:<br /><br />I have a Keurig Special Edition B60 brewer, and the first brew I did as was suggested by the maker (shake the K-Cup before brewing, brew on 8oz setting).  Of course my brewer doesn't have 8oz, so I brewed at 7.25oz, the \"middle button.\"  The result was a watery cup of hot chocolate with a fair amount of chocolate flavor, but still a little too watered down for me.  The color was really good, rich, dark, and even had some of that nice foamy goodness on the top.  I was *very* happy to see when I looked at the empty K-Cup after brewing that there was almost no powder or residue left in the K-Cup, a problem that the other hot chocolate K-Cups really suffer from no matter how hard you shake them and there was almost no thick chocolate gunk at the bottom of the mug when finished.  Awesome.  So overall, when brewed as suggested, it was the best hot chocolate I've tried for the K-Cup when prepared as-is, but not the best cup of homemade hot chocolate possible.<br /><br />The next brew I did I shook the K-Cup and brewed on the small cup setting, the 5.25oz brew.  The result was a hot chocolate that was a little thicker, beautiful color, lots of that spectacular white foam on top, something that looked like a REAL hot chocolate.  The flavor was much more defined, a lot more chocolaty, and very smooth and tasty.  Though I did notice that slightly Splenda-like aftertaste which kind of surprised me since I'm largely desensitized to that taste (thank you Fruit2O) and honestly it was ever-so-slightly just too sweet.  But wow was it good.  Still not the best hot chocolate to make at home, but really good.<br /><br />Third brew I did I did again on the 5.25oz brew, put a splash of half-and-half in the cup, then brewed.  Holy cow in a hat...  That was awesome.  Finally a substitute for my Dunkin Donuts trips.  So, so, so good.  No aftertaste, right amount of sweetness and creamy texture.  Great, rich color that looks like a melted Hershey Bar.  Right up there with the best hot chocolate one can make at home for sure.  For sure a taste that competes with hot chocolate I've tried from Dunkin Donuts.<br /><br />So rating this for me was hard...  When made, straight up as suggested, it's OK and even when it's made with less water it's pretty good.  Since I think the Keurig is designed for speedy ease-of-use, I think a lot of people are looking for and expecting that great cup of hot chocolate right out of the box.  In that way, it delivers an OK product, the best K-Cup hot chocolate available now, but not an overall great cup of hot chocolate.  But if you're willing to put two seconds worth of time into making it positively delicious, you will be very richly rewarded with fantastic hot chocolate.<br /><br />I fluctuated between rating 3 stars because, out of the box, it's only OK, and 4 stars because when adjusted it's amazing...  I ended up going 4 star with the assumption that there are a lot of people out there with a Keurig who do coffee or tea where they add creamer and/or sugar to adjust it to their taste, and I see doing this as much the same sort of thing.<br /><br />Hopefully Keurig will put out a hot chocolate soon that's amazing right out of the box.  If we could get them to talk to the Land O Lakes folks (<a href=\"http://www.amazon.com/gp/product/B001M5RNTS\">Cocoa Classics Hot Cocoa Drink Mix 7 Variety Pack</a>), there would never be a reason to leave the house for hot chocolate again...\n",
      "\n",
      "While at my friendly neighborhood Uwajimaya, I happened upon this freak of nature: the Komforte Chockolates Ramen Noodle bar.<br /><br />After staring in dull incomprehension for some time, with occasional muttered interjections of \"the hell?\" and \"but WHY?\" and so forth, I bought it and took it home. Really, how could you not?<br /><br />When first opened, the bar looked pretty much like your run-of-the-mill fancy-pants chocolate bar; no sign of eight-for-a-dollar pasta in evidence.  Ah, but when I snapped off a piece, the mysterious amendment was revealed! It appeared to be in the same pre-fried but uncooked form that comes straight from the bag, with which starving students everywhere are intimately familiar.<br /><br />There was nothing left to do but try it. *nosh*<br /><br />The ramen noodles in this chocolate are pretty few and far between, offering more texture than taste; the texture itself is something akin to soft nuts or cornflakes. The shape, size and markings on the bar strongly suggest that Komforte is made and/or owned by the same outfit that makes Seattle Chocolates.<br /><br />The quality of the chocolate itself is pretty good. It's good enough that it could stand on its own without playing up the quirk factor (Komforte's other offbeat chocolate bar flavors include French Toast and Tortilla Lime + Salt), but then they probably wouldn't be able to command premium prices for these chocolate bars. I'll probably try the others just to see what they're like, but I suspect the novelty factor wears off pretty quickly -- and then all you have left to market is an overpriced chocolate bar.<br /><br />(This review was originally published in slightly modified form at the author's blog, Confessions of a Laundry Faerie.)\n",
      "\n",
      "In my search for vegan chocolate (w/out milk or animal products), I found this chocolate at the local supermarket.  What a superb delight!  This chocolate is made with real rich Belgian chocolate, U.S. cherries & almonds.  The taste blew me away--really.  What an exquisite experience!  Only the equipment used to make this chocolate processes milk chocolate, otherwise this chocolate does not contain milk products, & I consider this one of the best chocolates of any kind I have ever tasted--ever!<br /><br />note: After I bought this chocolate, I found out refined sugar is not vegan (This chocolate cannot be called truly vegan since the refined & processed sugar is not vegan.  Animal bones are used in the processing).  Green & Black's Maya Gold Organic Chocolate is the closest thing to true vegan chocolate on the regular & wide commercial market today.  It does not contain refined sugar processed with animal bones.<br /><br />There is a beautiful love poem on the inside wrapper of each chocolate bar.\n",
      "\n",
      "This chocolate is very creamy and delicious either raw or melted. It is only 54% cacao, which is either very good or not so good, depending on your preferences.<br /><br />My wife and I love dark chocolate, and try to make our chocolate desserts (such as brownies, ganache, mousse, and chocolate buttercream frosting) as chocolaty as possible. This chocolate might not have enough punch for us, compared to the<br />Ghirardelli 60% and 70% cacao (bittersweet) chocolate that we usually buy. This chocolate is not as intensely chocolaty as either of those, and is sweeter and more creamy. I enjoy milk chocolate (which has much less cacao than dark chocolate) more than my wife does, and liked this chocolate more than she did.<br /><br />This is a very good start if you are just getting into dark chocolate, though, or are already sure of what cacao level you prefer.\n",
      "\n",
      "Let me preface my review with this confession: I'm a chocoholic.  There's no such thing as \"too rich\" or \"too much chocolate\" or \"too decadent.\"  I love me some chocolate goodness.  Milk chocolate, dark chocolate...not so much white chocolate and none of the fruit flavored chocolate.  My personal favorite is dark chocolate, but not that too dark chocolate that seems to be popular lately.  Now on with the review...<br /><br />I'm a huge fan of the Newman's Own brand and have a complete appreciation for organic products.  I had very high hopes for this chocolate bar.  Unfortunately I was a bit disappointed on several levels.  I found the chocolate to be drier than what my palate prefers, resulting in chocolate crumbles when I break off the pieces.  I don't like when chocolate (even the crumbles) goes to waste.  After all, any chocolate is good chocolate.<br /><br />I could tell, however, that the flavor of this chocolate was very pure.  It didn't have that \"additive\" flavor to it that some chocolate brands have.<br /><br />My last beef with Newman's Own Organics Dark Chocolate bar is that the squares are too big and don't break off easily.  I like bars that have smaller squares/rectangles to break off.  Because of the dry nature of the chocolate, there was never a clean break on the pieces.  It's a small, nitpicky thing, I know, but still something that matters to me when selecting a chocolate bar.<br /><br />And what made me ultimately give this chocolate only 3 stars was that after I broke off a few pieces and tucked the rest back in my purse, I COMPLETELY forgot I had any leftover.  This never happens to me.  I always break off a piece, and then save some for \"later.\"  Later meaning about 3 minutes.  Newman's Own Organics Dark Chocolate Bar had me forgetting I even had any accessible chocolate for several DAYS until I happened to spot it in my purse again.  That should tell you something.\n",
      "\n",
      "None of the wheat, gluten or dairy makes this bar stand apart.<br />I have no problem with the ingredients excluded from this snack bar, but am always curious about \"clean\" snack options. I'll compare these to two other kinds of snack bar I recently purchased: <a href=\"http://www.amazon.com/gp/product/B001HTGAUM\">Nature's Path Organic Granola Bars, Peanut Choco', 5-Count Boxes (Pack of 6)</a> and <a href=\"http://www.amazon.com/gp/product/B000EMQFY4\">Nature Valley Chewy Trail Mix Bars, Fruit & Nut, 6-Count Boxes (Pack of 12)</a>.<br />NUTRITIONAL COMPARISON<br />The Whenever Bars list a 40 gram serving size with 190 calories, 80 of them from fat, 9g fat, 1.5g saturated fat, 15mg cholesterol, 140mg sodium, 24g total carbs, 2g fiber, 9g sugars, 2g protein.<br />Nature's Path Peanut Choco bars list 35g serving, 150 calories, 50 from fat, 6g fat, 1.5g saturated fat, 0 cholesterol, 125mg sodium, 80mg potassium, 22g carbs, 2g fiber, 11g sugars, 3g protein.<br />The Nature's Valley bar also has a 35g serving size, 140 calories, 35 of them from fat, 4g total fat, .5g saturated fat, 0 cholesterol, 65mg sodium, 25g carbs, 2g fiber, 13g sugars, 3g protein.<br />None of these bars contains trans fats. Adjusted for size, the Whenever Bar is higher than the others in calories, calories from fat, cholesterol. Nature's Valley is the sodium winner (lowest) and carbs (highest). The Nature's Path and Nature's Valley bars deliver 177% of the Whenever Bar's protein content, again on a comparable weight basis.<br />EATING COMPARISON<br />Each of these bars delivers a distinct eating experience. The Whenever Bar is soft, a bit like a soft-baked cookie. It's a little dry and slightly crumbly. Mind you these traits are not overwhelming and did not bother me at all. The flavor is fine.<br />The Peanut Choco bar is gooey and denser than the Whenever Bar, and seems much sweeter.<br />The Fruit & Nut Trail mix bar is very dense, chewy and nutty. You know that you're biting into something when you eat these.<br />Did I like the Pamela's Oat Raisin Walnut Spice Whenever Bar? I did. Were I avoiding wheat, gluten or dairy, I'd welcome this option. Not having those issues to deal with, I consider it a viable alternative to the other snack bars I enjoy.\n",
      "\n",
      "Cluster #1\n",
      "\n",
      "I spent many years studying canine nutrition and it is fairly appalling how many of the major diseases and health issues began when we stopped feeding dogs table scraps and began feeding them processed foods. (See studies by Dr Pitcairn) Now granted, this was still a progression because toxins like onions were eliminated from their diet but poor quality processed foods, the same each day, are no mystery: we would suffer health issues if we chose that diet for life, and they need health as much as we do.<br /><br />Primary issues: the vitamins added in most foods are then cooked which means they are left deactivated; most foods are made for profit meaning they have mostly fillers and food not fit for human consumption and can even be high in allergens such as soy or corn, leaving chronic itching, poor coat, etc.<br /><br />But the main issue, aside from it being poor nutrition, in 99% of dog food is that it's not food grade meat. Why would this matter? I've actually visited the places that proved why this mattered.  In Hereford, TX they raise the majority of beef used in this country. (Your suitcase will arrive back home after the flight here reeking of cow manure. But it's a pretty city.) In front of me a bulldozer was picking up cows that just dropped dead or were in the process. I wanted to scream. I asked what happens to them and was told they are taken to the local dog food manufacturer...which is why the dog food manufacturers are built near large cattle farms. In a nutshell, free diseased meat. Cows don't go to a morgue to see why they died or what disease or virus they had. They go straight into dog food.<br /><br /> Can't believe this? Think back a few years ago when dogs were dying and there was a massive pet food recall. This was because most of the companies drew from the same downed livestock. There were only a handful of companies that were not on the recall list. These were the very, very few that use food grade meat. What that means? Meat meant for food. Appalling huh? Dogs are usually forced to eat non food grade meat.<br /><br />Food grade meat is marked as such on the can. You will rarely find it. Newman's Own is an example of one of the very few I've found that use meat inspected for human consumption...i.e. food grade.<br /><br />However, I've got one dog who for whatever reason doesn't like the taste of Newman's Own. She was raised, prior to my owning her, on cheap dog food and I swear she hates vitamins and good beef or something. (their products are also balanced for nutritional benefit)<br /><br />So I do supplement her diet back and forth.  I like that Ultramix is built better than most dog foods. The nutritional profile and ingredients are well balanced and well thought out. There are no byproducts (the parts that no one would want to eat being ground up) there are good solid veggies like spinach and some fruit mixed in and it has an excellent vitamin profile. It has a very small amount of garlic (garlic in large quantities will hurt your dog's liver and kidneys but in very small measured amounts is a natural flea and worm preventative.)<br /><br />My dogs love the taste<br /><br />The drawback is that it's not human grade or food grade meat so yes, you are still subject to use of downed and diseased cattle when it's not. So I don't use this often but for my dog who won't eat Newman's Own and for when I don't have time to mix up a good homemade meal, I do look for alternatives to supplement.<br /><br />It amazes me how in today's time there are still foods served to any animals that are, by all FDA standards, \"not fit for human consumption\". There is a rise in homes preparing homemade meals. Veterinary schools are funded by dog food companies but extensive studies show that issues we have today were all but unheard of prior to their poor processed food diets. And vegetables and fruits are important for pets which are often overlooked. Think they don't eat them naturally? If your dog sees grass and begins chewing, it's a way of getting these into their diet. In nature, the first part of an animal a wild dog, coyote, or wolf, will eat is the stomach of the rabbit or what he kills for food. This is where they get their vegetable content naturally. In reality, in the wild their diets are very similar to our own...except they aren't cooked! But the balance of fresh meats and vegetables is actually similar. They do not eat ground corn and fillers in nature but do get minerals and vitamins in naturally--many of which are depleted in most dog food manufacturing even if they are added in because of the high temps in processing.<br /><br />This is a good natural and balanced food without fillers.  It is not food grade. Add that and it will be perfect with no risk of health concerns. Many have no idea that illnesses can be born from downed cattle or diseased fowl. Unless pets start dying food is not recalled and the health issues are never connected. This needs to be changed.Human grade meats cost more and many have no idea why the few dog foods that use it are more expensive as I think there is little marketing and education regarding this. It took years of study and discussions from a rising population of informed vets to understand it myself.<br /><br />Unfortunately, not one day of veterinary school is spent on learning nutrition. It is spent on curing health problems rather than preventing them with a proper diet. That education has to come from self-learning after veterinary school.  And I applaud the rise in vets who are doing it, now that we know how our own diets effect us learn term and can shorten our own lives.<br /><br />While still better than most dog foods, it has one more leap to make it perfect. But many won't pay more for the pet foods that have it so I applaud at least the small part of change this has.\n",
      "\n",
      "Cluster #2\n",
      "\n",
      "We have three cats in the household, and they all LOVE these treats - in all flavors.  In fact, we rattle the bag to get the kitties to come in at night - almost always works.  One cat is fussy and won't eat any treats but these.<br /><br />I'm not sure how \"good\" the treats are for their health - the package says \"nutritionally complete and balanced\", and the ingredients include taurine which is essential for cats.  I suspect a diet including kibble, \"wet\" food and occasional treats is ideal.\n",
      "\n",
      "I happen to know this is a good product because I've used it before.  However, it has taken longer than the estimated delivery time for it to arrive. (And this is with Amazon Prime!!!)Further, whenever I enter the tracking number, I've gotten the following message--(for the past five days!!!)<br /><br />Your item was processed and left our SPRINGFIELD, MA 01152 facility on August 05, 2006. Information, if available, is updated every evening. Please check again later. It should not take five days for ANYTHING to get from Springfield, MA to Southern Maine.<br /><br />This was my first experience using Amazon Grocery, and I must say it was not a good one.  There should be reviews of the services they provide--for which they ARE responsible--and not the products they distribute for which they can take no real credit.\n",
      "\n",
      "My dogs loves these soft and stinky treats! They are great for training because they are small enough you can give a lot of  them and not be concerned about giving your dog to much food. They also have healthy ingredients and are one of the treats my sensetive GSD can have =0)\n",
      "\n",
      "I am very dissatisfied with the 3rd party shipper of this item, Netgrocer. The order did not ship until 5 days after it was ordered. I have tried to contact Netgrocer 5 times to resolve this, with NO call back. I paid nearly $12 for shipping and it took nearly 10 days to reach the destination by FedEx! It could have been shipped regular mail faster than that!  I would like to have the shipping credited back to my card, but I cannot get in touch with anyone from Netgrocer!  Until this is resolved, I will NOT order from Amazon or Netgrocer again.<br /><br />Jennifer Nawracaj\n",
      "\n",
      "The Yukon Gold is one fine spud, and these fairly thick-cut chips manage to negotiate a fairly bold but natural-tasting dose of seasoning without losing the authenticity of the premium potato taste. Maybe it's a rather silly reason and often I am quite beyond the temptations of alluring packaging, but for some reason the shiny mostly black bags of Terra products make me feel like I'm noshing on something other than, uh, packaged and processed convenience snack food, to put a fairly fine spin phrasing on it. Will buy again. Would serve to snoots.\n",
      "\n",
      "My youngest cat is very particular about what he eats.  He absolutely will not eat if something doesn't meet his expectations.  Between that and the recent pet food recalls, I've had a really hard time finding cat food that I can feed him.  I'm happy to say that the Merrick Southern Delight clicks with him, plus it has no wheat gluten or other fillers.  The texture of it is appealing, too . . . it's not just \"mush\" or Spam-looking like many foods.  I'll continue to buy Southern Delight and plan to also try out some of the other Merrick flavors.\n",
      "\n",
      "I like the pretzels, but there is hardly any salt on the pretzels. I've eaten several boxes with the same result. The salt is 90% in the bottom of the bag. I would rate the product a 5 if the salt was on the pretzels. I don't know if is a quality control problem or if some one is shaking the box a LOT. I hope they can fix the problem. I won't buy them again. Other products are better for the salt. The baked pretzels have a special quality to them, but they need the salt for me. Good Luck!\n",
      "\n",
      "I've been reading amazing things about Cacao, health benefits, etc., so I thought I would purchase these for my family and see if I couldn't \"work\" them into our routine.  I have to be honest, it really hard as no one in my family (including me) really likes the flavor.  Raw eating is new to me so maybe in a year or so this will be a real treat.  I agree the price and the fact that they are organic is GREAT.  I am still searching for a good idea on how to use them?\n",
      "\n",
      "I tried this product because it was truly natural.  Not just fancy marketing, but truly healthy candy!  I'm not a big sweet eater, so when I do eat sweets, I like the idea of having no \"junk\" or \"chemicals\" or \"altered\" food.  THESE POPS ARE DELICIOUS AND I FEEL NO GUILT WHEN EATING THEM.  I'll be handing out these delicious and natural candies to the neighborhood kids during Halloween!  Oh, I think my favorite flavor is the pomegranate.  If you're going to eat sweets, why not eat the kind that are colored using carrots and beets and other natural fruit and veggie extracts instead of things called \"Red 50\"?!  With this candy I get the natural color AND the side benefits of the concentrated nutrients in fruit and vegetable extracts!  Thanks Yummy Earth Goddesses!\n",
      "\n",
      "As a celiac, I've struggled to find good bread products. I can confidently says that Yoki provides the best (and easiest) Brazilian cheese bread mix. Chebe is another great brand for this food, but they require you to grate and mix in your own cheese (which can be good if you're looking to be creative). My one suggestion: The more homogenous your batter is, the smoother and crispier the rolls will be. Mix that dough to death! You'll get a much better end product.<br /><br />Also, if you're new to Gluten Free cooking, make use of flours like yucca and tapioca. They provide an elastic quality similar to gluten. My favorite baking flours include mixes like tapioca, potato starch, and almond or fava bean flour. You don't have to fight with those icky, dry rice flours anymore!\n",
      "\n",
      "Cluster #3\n",
      "\n",
      "As for the Green Mountain K-cup.  These k-cups do not give you the flavor you would normally get from brewing Green Mountain coffee.  The k-cups are week and taste watered down compared to brewing the loose/ground coffee in a conventional way, thus my 3 star rating.  With that said:  These k-cups are slightly better than other k-cups on the market.  If you are going to use k-cups I would recommend this brand and brew.  I would also recommend buying at Amazon as the prices are right compared to other sites.<br /><br />This k-cup is over priced.  If you look at the price you pay for this k-cup compared to the loose ground/whole beans you would be surprised.  You pay $0.50 a cup for a k-cup and $0.05 a cup for loose.  You get a 100 x's better cup from loose then with a k-cup.  Why pay more for a crappy cup?  Convenience!  But there are ways to avoid that cost<br /><br />The environment.  By using the loose/ground and the k-filter you help save the environment as all you toss out is ground coffee.  Every k-cup used takes up space in a landfill somewhere.  In my opinion it is the same as using a foam cup as to a ceramic mug to drink your coffee.<br /><br />Keurig.  This machine is convenient and quick.  But it is expensive to use with the k-cups, costing the average family $50+ a month.  To cut this cost to as low as $10 I use the k-filter with the machine and Green Mountain is one of my brands.  The loose/ground coffee in the filter gives you a stronger cup but still not the greatest but better than the k-cup alone by far.  Using the Keurig you must make a choice to sacrifice quality over conveinance.  I make that sacrifice during the week as I have little time on the weekday's to brew a pot of coffee. But I choose to use the filter with the Green Mountain loose/ground coffee and get a slightly better cup and save about $40.00 a month.\n",
      "\n",
      "Based on other reviews I see on Amazon, I guess I'm in the minority but I'm a coffee lover - way too many cups a day - and long ago moved from Folgers and Maxwell House. As a base coffee I prefer the smoothness of Colombian coffee and do sometimes drink a flavor. So I thought this coffee would fill the bill. But that was before it arrived.<br /><br />First things first: though Amazon's description says the beans are Arabica, the package itself doesn't. But I'll give them the benefit of the doubt. The next thing you notice on the package is that the Vanilla is \"naturally and artificially\" flavored. What? Vanilla is a natural flavor. Why use ARTIFICAL flavoring?  (At least Amazon says it is artificially flovored in thir listing)<br /><br />Okay, so here is this hard-packed vacuum-sealed bag. You unfold the flap (with that metal band to reseal it, and try to separate the top to get to the coffee. Ever try to open those hard plastic clamshell cases they put electronics in and are frustrating at Christmastime? Well, the paper bag is just like it. It won't separate! So you need to CUT the bag to get inside and then you can't easily reseal it. (Maybe my bag was unusual but you can't return when it's open.<br /><br />Okay now we are the brewing stage. Vanilla is a nice subtle flavor (or should be) but when the hot water hit the grounds in my drip coffee maker the room smelled like I just sprayed it with Vanilla room deodorizer! It was that strong. (Maybe it was the added ARTIFICIAL flavor.). Okay, I then tasted the coffee and, yes, it was smooth but had little COFFEE flavor. It actually tasted no better than those low grade International Coffees that come powdered from Maxwell House.<br /><br />So, though I do use Melitta filters - and have used their bulk whole bean coffee from supermarkets in the past, I can't say this is a product I can recommend. (But then again, I here to drink coffee with a light flavoring, and expect the dominant taste to be that of \"coffee\".<br /><br />Steve Ramm\n",
      "\n",
      "I will preface my comments by saying that, while not a coffee snob, I am a coffee enthusiast (I enjoy reading about coffee, roasting it, grinding it, trying different methods of brewing it, etc.).  Although I've had Keurig-brewed coffee before, I just bought my own machine and am in the process of sampling the many different varieties of k-cups out there.  I typically prefer robust, \"city\" roast coffee with a lot of depth, but with higher notes to add some complexity.  I drink my coffee black, and have been using the medium (I believe it's 7 oz) cup setting on the machine.  I have only tried a few k-cup varieties so far; so, as far as k-cup coffee is concerned, I have little for comparison.  My favorite so far is Newman's extra bold.  That being said -- I found Tree Hugger to be a bit pale by comparison.  Calling it is extra bold is somewhat of a stretch.  I realize that in k-cup terminology, \"extra bold\" simply means more coffee per k-cup, but the coffee itself lacks depth for my taste.  It does have brighter (berry) notes as noted in the description, but does not have substantial body, nor does it linger on the tongue.  Rather, it imparts a slight \"dry\" mouthfeel that, while not offensive, leaves me less than satisfied.<br /><br />As for me, I am not a tree hugger, so that aspect does not sway me; nor do I really care if it's organic, to be quite honest.  (We all die sooner or later, and no matter how long the good Lord has decided to keep me here on this earth, I intend to enjoy my coffee -- organic or not).  However, if these things are important to you, then perhaps you will find Tree Hugger to be an acceptable cup of coffee, especially if you prefer a more \"dounut shop\" style coffee.  For me it was \"okay,\" hence the 3 stars.  Thanks for reading my 2-cents worth.\n",
      "\n",
      "I just upgraded my original review from 3 to 4 stars.<br /><br />I decided to try it again after a few weeks.<br />Maybe it's an acquired taste, but I do like it now.<br />Still can't taste the vanilla flavor.  Pleasant aroma though.<br /><br />Original review.<br /><br />Pros:  Not bitter.  Not burnt.  Fairly smooth.  Not weak, not strong.<br /><br />Cons:  Unpleasant aftertaste.  Could not detect vanilla flavor.<br /><br />Detailed review.<br /><br />Coffee is so subjective, you need to know about my usual coffee habits.<br /><br />Regular coffee drinker.  4 cups a day.  Drink coffee black, no sugar.<br />I like vanilla flavoring in a variety of products.<br />I regularly drink vanilla rice milk, and add extra vanilla extract.<br /><br />My usual morning coffee is Dunkin Donuts Original Blend, brewed fresh.<br />Occasionally buy Starbucks Morning Blend.  Don't like their stronger or bold coffee.<br />Several cups of Keuring, during the day.  Like Keuring Coffee People Donut Shop XBold best.  Also Caribou Sumatra.<br />Van Houte Vanilla is also pleasant enough.  Don't like weaker Keuring Coffee.<br /><br />I brew coffee using one scoop for each 6 oz cup, plus an extra scoop.  I use filtered water.<br /><br />I tried this coffee immediately after brewing and before food.  Immediate unpleasant aftertaste. At least it wasn't bitter or burnt.  It was evident there was some type of flavoring, but I couldn't detect any vanilla taste.<br /><br />Proceeded to drink a cup with my breakfast.  Aftertaste not noticeable when I had it with a meal.<br /><br />After eating, I had another cup.  Aftertaste came right back.<br /><br />Will not be finishing the bag.\n",
      "\n",
      "If you like the flavor of cardboard, then you will like this because that's what it tastes like. I like coffees that are strong flavored...this is not it as it has little flavor at all.  I guess the saying is true...\"You get what you pay for\" price is cheap and it tastes cheap.  I'm sorry I bought it.  Please contact me if you would like one opened can and one sealed can and I'll give it to you for free.  Actually, I wouldn't want to give this to a homeless person because I'd hate to put them through the unpleasant taste.  Surprising to see some people said they like it.  Wish I could have agreed with them.  Opened one of the cans, it didn't even leave an aroma which was my first clue that it would probably not even have a pleasant taste.  Then I tried several varied amounts in the brewing process thinking that eventually I would get a decent tasting cup of coffee.....NO SUCH LUCK!!! I ordered based on the other reviews here on Amazon.  Worst coffee I've ever tasted and comes close to the taste of coffee aboard some NAVY ships where the coffee has been brewing for about 5 hours or more.  I strongly recommend others to avoid this brand and try something else.<br />I normally like to use whole beans and ground them myself...this is the first step to making truly flavorful coffee. If you use paper filters, let a cup of water run through them then empty the carafe and then put your freshly ground beans in the filter and brew. This process takes out the mill-dust that all paper filters have in them which will taint the flavor of the coffee if you don't do this process. As for store brand coffee, I would recommend the selection at Kroger called Spotlight or the other called Private Select. A good non generic store brand coffee is Community Coffee. If you are fortunate to have a Central Market grocery store near you, try the fine selection of whole bean coffees.\n",
      "\n",
      "Lets start with my qualifications (ha!) I drink about 4 to 5 cups of black coffee a day and have tried different roasts and beans over the years to nail what -I-  consider the best for me in price and flavor. I tried some expensive coffee beans that ended up in an open container in the fridge just to take away the odors instead of throwing it away, I tried *tarbucks my favorites Verona, Colombian and Sumatra and their anniversary blend. Then here comes -Coffee Beans Direct-, my \"find\" for quality, price and variety, and started telling my people about them . . . I tried coffee bean direct's coffee for about a year now, I used to get the six bean espresso blend for a while then I bought four 1 lb bags of different coffee beans to try to find something different for a change or to \"discover\" something better for my palate, and to use them in my saeco odea automatic espresso machine, in lattes and americanos. I tried (in order of my liking) city roast Papua New Guinea, dark sumatra, dark brazilian santos and still have a french roast bag that i haven't tried yet, and I would place the six bean espresso blend between the dark sumatra and the brazilian santos (maybe even tied with the sumatra), now again this is in regards to the ability to make great americanos and lattes, I drink americanos during the week and lattes on weekends. Like I said I drink my coffee black with no additives and filtered water, don't like to spoil the subtle aromas and flavors (of course unless is a latte). . . made an americano with the papua new guinea for my girlfriend which also likes good coffee, on her way to work and she called me just to ask me what kind of coffee I used because it was excellent. I also had noted that it is excellent for my americano but I noticed that i need an extra shot of espresso for my lattes to make the flavor strong enough for me; in comparison to the dark sumatra and the six bean blend. Anyhow I think this is an excellent coffee bean, I have not tried it with drip coffee but the espressos are just excellent, again, for my palate (and my girlfriends apparently) not too bitter not to acid great aroma; which is a big part of the experience, (it doesn't cause me heartburn:-). I hope it helps someone to make a decision.\n",
      "\n",
      "This is NOT a review for coffee connoisseurs...<br /><br />While this coffee may not win any awards, it's not so bad either.  I think it's best to set our expectations first. Let's define what BAD coffee is.  Think about the coffee usually available in the breakrooms of Corporate America. They're usually extremely watered down and taste bitter and acidic so people end up drowning them with creme and sugar. I'm not sure if you can call that drinking coffee at that point as opposed to some concoction of sugar-milk-coffee that kinda sorta resembles coffee. When you open the cabinets, you'll be staring at a box of corporate coffee usually with the labels \"Folgers\", \"Maxwell House\" or [insert another brand here]. Yes, they are BAD coffee.  Let's keep that disgusting drink in mind when reviewing the Community Decaffeinated coffee.<br /><br />At a price point of 4 bucks and change for each bag, it's a bargain since you'll see that most decent coffee will cost you $7-9 for a 12oz bag at your local grocery store. I suppose you can stop by Starbucks and get your grande cup and pay $2-3 each time. But if you have a coffee brewer and a grinder, you can easily recreate the Starbucks experience right at home for so much less. I like sniffing the fresh aroma after grinding the beans.<br /><br />I always drink my coffee black. Good-enough coffee can be had without sugar and creme and that is what this coffee is. It is not intense in flavor and aroma but I like mine light bodied without that strong overpowering taste of French Roast.  I deliberately choose decaffeinated b/c I like to drink lots of coffee and this allows me to drink much more coffee than caffeinated coffee. I might down 8 cups in a day and not worry about getting the jitters and a racing heart followed by intense heart burn all due to having consumed too much caffeine. I only wish there were more flavors in decaffeinated form.<br /><br />4/5 stars. It's not the best but good enough and good bang for the buck. It may not work for everyone but it works for me.<br /><br />[Update 4/2012]: I've seen the prices of Community Coffee fluctuate a lot since buying my first batch. Now each bag is not $3 but more like $5.50 (if you subscribe). At this price point, it's not the stellar deal as before but it's still respectable, although I would perhaps consider paying up $2-3 to get a \"better\" bag of coffee from the grocery store. Just a thought.\n",
      "\n",
      "Puroast Low Acid Coffee<br />If all you want is low acid, try other beverages. With Data.<br />To start with I do experience occasional heartburn, reflux, etc, so this was a very exciting taste test. I brewed a pot of fairly well renowned regular coffee, and a pot of Puroast. I poured both into identical cups, no milk or sugar to start with. The regular coffee had a deep brown color, while the Puroast had a black brown color. I tested the pH of both, the regular was about 5-5.5 while the Puroast was indeed 7.0 or neutral as claimed. First taste was of the Puroast as I did not want to be prejudiced by the regular taste. Good grief... It was wet, it was warm, very flat taste with no finish, hardly what I would call even an average cup of coffee. The best comparison is that to a day old coffee that has been left to evaporate and oxidize. Perhaps burned charcoal aroma with hints of bitter chocolate and caramel? The standard coffee by comparison had a rich coffee aroma, and the taste was wonderfully balanced coffee bean with tinge of vanilla, and a pleasant finish with a slight kick (the balance finish kick is unfortunately from the acid).<br /><br />I now added some whole milk, and as expected the regular coffee mellowed out a bit, but all of the wonderful flavor still came across. Incredibly when I added milk to the Puroast, it turned a poor tasting cup into an awful tasting cup. The flavor now became that of  mostly spoiled milk! This was such a strange sensation that I had three more people confirm the sour milk phenomenon. To top things of, the color had now become that of black brown mud.<br /><br />So all in all, this was a bad experience. If you have a need to drink a low acid coffee do this. Get yourself your favorite cup of coffee and a bottle of antacid instead.\n",
      "\n",
      "Guys: Although I was a bit skeptical at first, I got to say these are pretty neat because you can fill it with your own coffee and it's also a one time use cartridge for about .20 a pop if you go to coffee cap shop (one word) and select the cheapest shipping (100 capsules at $18.00 plus $2.39 shipping).  Nespresso has a very tight grip on the distribution of their capsules, but a slight design change in these allows them to work with the Nespresso machines while still not infringing on their copyright.  Note: There are alternatives to this product which are re-usable called Nex-pod, and another referred to only as \"3 Brown or 3 Black\"  or coffeeduck <a href=\"http://www.amazon.com/gp/product/B005ZEGLH2\">CoffeeDuck Refillable Coffee Capsules For Nespresso - 3 Pods - Thes Espresso Cups fit all Nespresso machines from after October 2010 - Please make sure you have the correct machine before purchasing</a>..... I haven't tried these myself, they are a bit more expensive and from what I've read in other reviews and have seen on YouTube, they didn't just didn't seem to be the best choice for me; you may want to go online and look at the Amazon reviews of these products to judge yourself.  Also, it looks like the brown ones (which are out of stock) are the ones for Nespresso machines made prior to October 2010; the black ones (still available here) are for machines after 2010 (I have the old original C190 Concept machine (model c190) from 2001). Just as an aside, I've also seen videos of people simply re-using a used Nespresso pod  and re-sealing the foil piece with a new piece of aluminum foil (I tried this once and the results were really crappy and watery, and coffee grounds ended up in my machine).<br /><br />Anyway, back to Ne-Cap.....I fill it with my own espresso grind (illy or Lavazza) and I've got to say that the coffee was good and had a decent crema.  They're pretty easy to use as well, although you might need to experiment a bit with the coffee, grind and amount you put into the capsule to ensure you get a nice rich cup of coffee.  Take out a new capsule, using your pod as the \"scoop\", scoop it to the very top and then simply wipe off the excess so it is filled to the top but not overflowing the rim, then very carefully peel off the paper ring from the top of the cup (uncovering the sticky ring on the top of the cap) and then place the pre-cut aluminum cap on top of the capsule to seal in the coffee (note: you need to be somewhat careful when you're peeling off the paper from the cup to expose the sticky seal or else you'll also remove the sticky seal which is supposed to stay on the cup).  Although the sticky seal for these capsules is not the same as the Nespresso air tight seal (which I think is only done to keep their packaged coffee fresh), the seal is good enough to perform the job and prevent coffee from exploding outside the capsules.  I know their video shows them tamping down the coffee pods as they fill them, but for me, no tamping works best (and it's simpler).<br /><br />After experimenting a bit, I noticed that if you want the richer coffee and thick crema, you should stick with a darker roasted, robusta beans, finely ground (espresso or fine grind...check out <a href=\"http://www.amazon.com/gp/product/B001E5E0D8\">Lavazza Crema e Gusto Ground Coffee, Italian , 8.8-Ounce Bricks (Pack of 4)</a> which is primarily robusta and is on sale with subscribe and save).  And when tamping down on the coffee, don't pack it in too much before attaching the foil top or else you just get a little dribble of coffee coming out (and in all honesty, I've been using these capsules for some time, but every once in awhile, this still happens to me. The drink is fine, it just takes awhile longer to fill the cup).  Along with the illy brand of coffee,  Cafe Pico, Cafe Bustelo, Lavazza Crema and Pilon also do a very good job in these capsules. If you want to see how much coffee Nespresso uses in their capsules, you can also open up a new Nespresso capsule and see what the grind looks like and the amount of coffee they use so you get an idea. I'm too cheap to do that ;-)<br /><br />I wouldn't recommend making these cups too far in advance (since you don't have an airtight seal once you make the cup), but instead make them when you're ready to use them that day.  Although this may seem a bit of work if you're in a rush (and remember, you do have to buy your own coffee), it is sort of fun to experiment with the different blends (you can use any full or half decaff coffee for those last minute guests that want espresso without all the caffeine or you can experiment and add flavorings like vanilla, spices etc.).\n",
      "\n",
      "To save calories and all the artificial ingredients, I really wish I could drink plain black coffee, but I just don't like it.  I usually have brewed coffee with flavored non-dairy creamer.  When I saw this product (and the Pumpkin Spice variety) available through the Vine program, I thought I would give it a try.  It's okay, but nothing great.  It's sweet and has a slight peppermint flavor (fun for the holidays), but really no coffee flavor to speak of.  It's certainly not the quality of a latte drink you would get at a coffee shop.  On the plus side, it is super easy to make plus costs much less than a latte drink from a coffee shop.  The product does not contain much actual coffee, so it certainly won't give the morning pick-me-up that I have come to expect from my morning coffee.  So I think I will stick with my usual brewed coffee with flavored non-dairy creamer in the mornings and the occasional latte or similar drink at the local coffee shop.\n",
      "\n",
      "Cluster #4\n",
      "\n",
      "I love this green tea!  When prepared correctly (especially with delicate teas, such as green and white teas) you will experience the most delightfully fragrant and smooth tea ever!<br /><br />Jasmine is believed to be the world's most popular flavored green tea; since I love the scent of jasmine anyway, I thought I'd give it a try.  My first cup was at a local Chinese restaurant in Richardson, TX (of all places, right?...but true!).  The sweet scent of jasmine enveloped the restaurant; my guests and I were immediately presented with this beautiful Chinese Tea Setting of jasmine green tea (already steeped and strained).  OMG! First sip and I was hooked!  With a dash of sugar the green tea  and jasmine flavor just popped. Absolutely delicious!<br /><br />I was advised that one tea bag will yield 2.5 cups (OR a small tea pot).  Brewing good tea requires good preparation. Start with cold fresh water and bring kettle it to a boil.  Let hot water settle for awhile.  Next, prepare your tea pot with one tea bag.  Pour hot water into tea pot.<br /><br />Follow these guidelines for appropriate water temperature and steeping times for jasmine tea varieties.<br /><br />  * Black: Use boiling water and steep for 3 to 5 minutes<br />  * Oolong: Use boiling water and steep for 2 to 3 minutes<br />  * Green: Use 160°F water and steep for 1 to 2 minutes<br />  * White: Use 185°F water and steep for 5 to 8 minutes<br /><br />Adhering to the appropriate water temperature and steeping time is critical for making good tea. Too much steeping and your tea will be bitter; too little and the tea will be thin and weak. Water that is too hot for delicate teas like green and white will compromise the tea's light flavor.<br /><br />Jasmine tea, particularly, green and white varieties, are also wonderful for iced tea. The jasmine fragrance and light sweetness are perfect for a hot day. To make iced tea, brew several servings of tea at once and cool.<br /><br />For white and green teas, allow the tea to cool completely before you add ice. Adding ice to the hot tea may dilute the delicate flavor too much, making it taste weak and flavorless.<br /><br />Hope this helps in brewing a perfect cup/pot of Jasmine Green Tea!\n",
      "\n",
      "Cluster #5\n",
      "\n",
      ":: SteviaTabs Stevia Extract Tablets, Pack of Four 100-Count Packages ::<br /><br />I am hooked on always taking my coffee with stevia. The form I most often use is the shaker jar, the blend with FOS, from this same reliable company (Wisdom Naturals).<br /><br />But I also buy their product in tablets for the convenience. I take a packet with me for when I am away from home (travel, motels, etc).<br /><br />Another good reason for choosing tablets that I learned from experience:<br /><br />I was trying to get a friend to switch to stevia for his coffee instead of the chemical whatever-it-was sweetener tabs that were his habit. He reported that the stevia was far too intenseley sweet. I was suprised, but then after further dialogue, learned that it was because when he used the shaker jar, he poured in too much. Since then I found that setting a stevia-newbie up with tablets, and the simple instructions of 1-2 tabs per cup, it's what makes for the best approach.<br /><br />Note! Amzn's current price on these, less than $4 per pack, it is VERY good. I spent a lot of time last winter researching lowest possible price on this product. I really believe AMZN's price here cannot be beat -- particularly if you're calculating in the current promo of 20% off and free shipping.\n",
      "\n",
      "I no longer make my own turkey gravy - too much fat, too much fuss.  I've been using Knorr gravy and sauce mixes for years now.  Low in fat (for some sauces I use non-fat milk and don't add butter) and easy to use.  I prefer making it on the stove top instead of the microwave.\n",
      "\n",
      "For those looking for a healthier alternative to butter and vegetable oils, coconut oil is great!!! I use it as my primary cooking oil, so this large jar is perfect for me. It doesn't need refrigeration like other coconut oils I've purchased, which is convenient.<br /><br />A neat thing - some doctors actually recommend daily doses of coconut oil. Also, you can use on your skin (which is better for you than petroleum-based products).\n",
      "\n",
      "Great tasting seasoning and comes with 3 super easy recipes on the back of the package: the basic recipe - add chicken, celery, carrots and potatoes; the chicken a la king recipe - add celery, frozen peas and mushrooms and lastly the chicken cacciatore recipe - add tomatoes, green pepper, sliced olives, onion basil and oregano.<br /><br />I love the chicken cacciatore recipe. You can add tons of different veggies (whatever kind you like really and I use about double what the recipe calls for and add a small can of V-8 juice along with the tomatoes), throw the whole thing in the crockpot and go. It cooks on low for about 6-7 hours but lots of times I've ended up leaving it in for 8+ hours (I just add frozen meat rather than thawed) and when I get home the house smells great and I can have dinner on the table in about 15 minutes.<br /><br />This is also really good if you add bok choy, water chestnuts and other chinese type veggies and some soy sauce to taste. I use the lite soy sauce and lots of veggies.<br /><br />The only downside to this is that it IS kind of salty. I recommend adding more vegetables than what the packet calls for or maybe use just part of the package to cut the salt.\n",
      "\n",
      "The flavor and quality are excellent.  It is not too strong of a coconut flavor so it works in many foods.  The price was so low compared to other brands.  I almost gave up using coconut oil because it was becoming three times the price of organic butter (the only two \"safe\" high-heat cooking oils according to my Naturopathic Doctors).  After shipping it is just a bit more than organic butter!  Now my 10-year-old son makes popcorn with half coconut oil and half butter that exceeds theater popcorn!  My 12-year-old daughter says it tastes great and I have used it as the only moisturizer on my face for two years in our hot, dry climate.  I am a satisfied customer!\n",
      "\n",
      "This is the 2nd time I've purchased these vanilla beans.  Prior to this I would purchase vanilla beans at the retail store (bakery supply or grocery).  I was so disappointed in the quality of those beans that I was ready to stop using vanilla beans altogether.  The beans came in a plastic vial and when I opened them they were so dry they were brittle.  How happy I was to get my first order from JR Mushrooms.  They were fresh, large and delivery was quick and accurate.  I have and will continue to recommend this product & company.  Before retiring I had been a professional cook & baker & I want a quality product to use.  I make my own vanilla extract which is much better than most vanilla extract that you find in the stores.  All it takes is a little alcohol (I use vodka) and these good vanilla beans.  You get this recipe with the vanilla beans.  These are a staple in my cupboard.\n",
      "\n",
      "I've had this for almost a year - I've used it to make soymilk, almond milk, and to grind flax seeds.  It's solid, easy to use, works quite well at everything I've tried on it, and it's great to know what's in my milk & to be able to cut down on the waste involved in packaging, shipping, and processing store-bought soymilks.  There is a beanier taste to home-made soymilks that takes some getting used to, which was disappointing at first, but I've gotten used to it.\n",
      "\n",
      "If you use a large amount of sundried tomatoes (for pesto, salads, pastas, whatever), you cannot beat this price.<br /><br />When shopping for sun-dried tomatoes there are generally the kind that are moist-dry (as these are). They are plump, slightly juicy, but have a concentrated tomato flavor.<br />Others are leather-dry and more shelf stable, but have to be slightly rehydrated before using them.<br /><br />These are milder tasting than some, but still have excellent flavor.  If you need \"strips\" for a recipe you can easily cut these with kitchen shears or add to pesto to make a fabulous pizza or pasta sauce.<br /><br />They are not the kind that are soaked in oil, which is favorable in my opinion. It makes them easily to work with and lower in fat for healthy cooking. It is rare to find a \"dried\" tomato this juicy without being soaked in oil.<br /><br />They do require refrigeration after you open them, so you may want to consider sharing a bag with a cooking friend because of the sheer volume.\n",
      "\n",
      "I make an extended butter using this oil, water and liquid lecithin.  It is just the BEST tasting spread ever and much healthier because of the walnut oil.  I keep mine refrigerated to preserve that wonderful taste and aroma.  It tends to settle out so be sure to shake it before using to get the full flavor and consistency. I didn't know to do this on the  first container and when I got to the bottom it was very thick, almost sludgy, with the roasted bits.  Amazon's price is pretty fair although I can occasionally find it locally (TJ Maxx)a bit cheaper. But I must say ordering from Amazon and getting it shipped straight to me is VERY convenient.  I've never had any problems with damaged or leaking containers on this product (well maybe a small dent in the metal but that's all).\n",
      "\n",
      "We have spent three years trying to get rid of pocket gophers in our N.M. back yard. We have spent many hundreds of dollars on other traps, store-bought gas bombs, \"professional\" gopher trapper, and \"professional\" gaser (from the pest company--they use aluminum phosphide). Nothing worked. The first day I set out four of these, I caught a pocket gopher in one of them. In one case, I didn't have the trap positioned precisely enough and the vermin got around it.<br />Placing the traps does take time and practice, but it's the only thing that has worked at all. Unlike poisons, you see the proof of its success. I do not use carrots in the traps. I've used a piece of sandstone or paper on the outside of the trap to keep dirt out and then cover the trap with soil again. I have to dig out the trap in a day or two, but it's the only way to be sure no light is getting through.\n",
      "\n",
      "Cluster #6\n",
      "\n",
      "CarbRite Brownie Mix includes chocolate chips in it - and the resulting brownies are only 1.5 grams of net carbs per large brownie!  That's only 174 calories. This is definitely recommended for anyone who loves chocolate and wants to be healthy too.<br /><br />The brownies are very easy to make. You add in 3 eggs, 1/2 cup of butter and a teaspoon of water. That's it. Bake for just under an hour, then chill for an hour in the fridge.<br /><br />What's neat about the brownies is you have options as to how they come out. Depending on how long you bake them, you can get them to be more cake like or fudge like. We like them about half and half.<br /><br />The chocolate chips seem to \"sink\" into the mix, which gives it the fudgy aspect on the bottom layer. It's a really nice texture, with a crispy top. Even several days later, the ones that are left (assuming you eat them at a reasonable pace) are still quite tasty.<br /><br />Now I do want to comment that you SHOULD eat them only one at a time. My boyfriend was a bit greedy when we first made these, and ate a bunch. These are LOADED with sugar alcohols.  There are 15g of sugar alcohols per serving. This gives it a fantastic sweet flavor - but they cause digestive problems if eaten in large quantities. One brownie is fine. Six brownies .... less fine. Be wise. Eat just one.<br /><br />Some people ask me why they don't just use Splenda instead of sugar alcohols. Splenda doesn't bake as well as sugar alcohols do - the flavor comes out differently. I really do believe this is the best formulation for its fantastic flavor, but again, be aware of the content. Eat in moderation.<br /><br />I really love these. You get a rich brownie flavor for hardly any calories and almost zero carbs. It really is quite ideal for anybody who loves chocolate - on any eating plan - who wants to avoid sugar.<br /><br />The nutrition values are: 174 calories, 12g fat (no trans fats), 55mg sodium, 3g fiber, 15g sugar alcohols, 1.5g net carbs. You get tiny amounts of some vitamins, nothing to really consider important.<br /><br />I would even recommend parents make these for their kids, if their kids demand chocolate, rather than giving them sugary versions.\n",
      "\n",
      "Cluster #7\n",
      "\n",
      "I bought a Senseo machine for the convenience of making one cup at a time but was underwhelmed by the coffee choices available.<br /><br />That is until I found the Kona coffee pods from Aloha Island.<br /><br />These are all I use now. They cost a little more but worth every penny if you want a very smooth, rich cup of pure Kona coffee these are the ones to buy.\n",
      "\n",
      "I'm a big fan of the Aloha Island Gold Kona so I decided I should try the Diamond & Platinum this time.. so glad I did. The Diamond is a coffee unlike any I have ever had before. The flavor profile is earthy, woodsy and smoky, very complex and dense and rich while being extremely smooth and without any bitterness to it at all. The ulitmate for a true coffee lover. The platinum is wonderful too... It's a more delicate coffee but still with the rich smoothness that I have come to expect from this producer. I must try their espresso next....The presentation of the Diamond in the black silk bag is extraordinary as well. I have sent these to my clients for the holidays this year.\n",
      "\n",
      "Let me just say that I am so impressed with the Senseo machine.  I can never get coffee tasting just right, so the pod system really attracted me.  I kept debating between the Senseo and the HomeCafe.  It was a demo of the senseo that made me decide to go with it.  The Senseo brews a nice small cup of coffee that is nice and frothy.  It gives you the sensation of a cappuccino or latte after adding a little milk.  I adore the mild roast and the decaf roast.  I finally can have a great tasting cup of coffee whenever I want it!  It's perfect if you're a college student!\n",
      "\n",
      "No matter how many different types of coffee I try for my Keurig, the Sumatran Bold is always one of the ones I come back to.  Flavorful, rubust, rich but not bitter.  This is the one I go to when I want a nice strong cup.<br /><br />In milder times, I enjoy the Columbian Supremo from Timothy's and Breakfast Blend from Green Mountain.<br /><br />Give this a shot!\n",
      "\n",
      "This coffee is PERFECT for someone who just likes a \"hint\" of flavor in their coffee.  The flavor is VERY mild, but VERY pleasing.  I recommend this blend!\n",
      "\n",
      "I love coffee. I've never been a fan of instant coffee (Naturally fresh brewed is better, right?) Since I've started drinking this in 2005 it has been my number one choice. I honestly prefer this to fresh brewed. We have a very nice coffee machine at work and I bring this in to drink instead. To me, it tastes just like, maybe better than, fresh brewed coffee.<br /><br />It also gives me that extra kick that I need in the morning. Enjoy.\n",
      "\n",
      "spotajava coffee is the best kept coffee secret on the planet.  This premium connoisseur peaberry coffee tastes so much better than Kona or Blue Mountain or any of the other over 300++ flavors of gourmet coffee, custom roasted to your order.  that pcp is way cheaper than blue mt or kona...ssshhhhh...don't tell anyone about spotajava coffee...you can buy it on amazon too...\n",
      "\n",
      "I have been drinking this coffee for the last 3 years and it's all I drink now!  Forget paying $5.00 for a wonderful creamy and delicious cup of coffee from you know who.  This stuff is great!\n",
      "\n",
      "I'm a dark roast lover, but this was too strong for me - regardless of how I made it.  I gave it to a friend who thought it was fabulous.  So here's my advice: don't make it too strong - it becomes bitter, and if you're not sure you like dark roasts....go with the light roast here.  Kona is traditionally very smooth coffee, and this is, but it's truly for strong dark coffee lovers.\n",
      "\n",
      "You're paying for the Kona reputation and marketing, but the 'blends' are really overpriced considering they're just 20% Kona.  The 100% is more worth the price, but you don't need to spend quite so much for comparably great coffee..  Still recommended, Kona coffee is a great product (buy the 100% instead for 40% more).\n",
      "\n",
      "Cluster #8\n",
      "\n",
      "I have been researching dog food for a few years now.  I am living in Japan (US Military) and I was ordering my dog food from PetCo online.  I have tried Solid Gold Hund N' Flocken, DVP's Natural Balance, Costco Kirkland Super Premium, Eukanuba FP Prescription Diet, and Hills ZD Ultra Allergen Free Prescription Diet.<br /><br />I was able to source the Canidae and the Solid Gold foods locally for my Dal with serious allergies.  Both of the foods have had better results than the super pricey prescription diets.  I am sold on Candidae.  I pay $[...] for the 40 LB sack, which is not that bad considering I am sourcing it locally on the Tokyo economy.  The dogs love this food more than the Solid Gold, but I believe that they are both fine foods.  This food looks tastier than the Solid Gold Wolf Pup that I was feeding my K9 German Shepherd, and it seems heartier that the Hund N' Flocken as well.  It just looks like it must taste good.  The dogs go nuts over it like a crack addiction!  I am very happy that I have found a solution that is applicable to both dogs!<br /><br />There is something to be said of companies that go the extra mile for our man's best friend.  It is just not right to feed our pets the crap that they sell in the stores.  I used to think that Eukanuba was a great dog food.  Thank God for the Internet!<br /><br />Buy this food, you will not be disappointed!\n",
      "\n",
      "I was concerned about the effect \"regular\" dog food was having on our dogs. We have one puppy and one senior, so both are in crucial stages. The puppy had bad dandruff and dull, course hair while the senior had various issues throughout his life including seizures and IBD. I decided to try a home cooked diet for them but after the pup developed an allergy I was scared to try anything else on my own. We decided to try Wellness after some research on the natural brands (not to mention a taste test with samples from Pet People).<br /><br />This food has done WONDERS. The pup no longer has dandruff and his coat is shiny and silky. His energy level is also through the roof. Our older dog has always been a veeery picky eater, sometimes going a couple days in between meals if it wasn't appetizing enough for him, but he loves the Wellness food and even eats it dry! No canned mix-ins necessary! Since he started eating it we haven't seen any IBD symptoms and he's acting a lot younger.<br /><br />I wholeheartedly recommend this food, or at least another brand of natural food. I encourage you to compare the ingredients in Wellness to regular food as even  \"high-end\" grocer brands (like Science Diet) contain the same junk as the generic ones!\n",
      "\n",
      "Bought this food locally in the smallest size - we have two chihuahuas and they are pretty picky eaters. They normally have a wet/dry combination of food but with this stuff they eat it dry no problem. We try to include as much organic into our diets as possible and it made sense to do the same with the dogs, plus this stuff is made in the USA (not in Canada which apparently has less strict regulations for dog food - which is where the Newman's own brand is made, I've been told.) One of the dogs has a pretty sensitive stomach so it's hard to find a food that we can consistently purchase that doesn't make her sick. The small size bites are perfect for our dogs, which is really nice too. Remember when introducing your dog to a new food, it's best to start combining it with their old food.\n",
      "\n",
      "I received the first jug as a gift for my golden retriever (80 lb.), then bought a second one when I picked up a Wheaten terrier (30 lb). Both dogs enjoy working their breakfast kibble out of the jug. The Wheaten will eat until full and the retriever, true to his nature, can't stop eating and playing. They are able to almost completely empty the jugs. Their size difference changes their strategies a bit but doesn't affect their ability to play.<br /><br />When first introducing the toy to the dogs, I \"primed\" the jug by spilling out a couple high-value treats mixed with kibble (later moving to only kibble). The rope knot inside the jug can also block the entrance, so I was careful to make sure that the knot was well inside the jug. And I made sure to fill the jug about 3/4 full because the jug can clog if it's totally full and I didn't want them to be discouraged if it was too unrewarding. Now the dogs are more experienced, so I don't prime the jugs anymore. I am increasing the challenge by sitting the jugs upright and will soon be moving to asking them to find the jug.<br /><br />The container is easy to fill but the cloth rope makes cleaning a little more difficult. My Wheaten uses the rope to retrieve the jug from under the coffee table but I'm still considering removing the rope because of hygiene and because it blocks the jug opening.<br /><br />I recommend this if you have dogs cooped up indoors, if you have dogs that need to keep themselves occupied, and especially for large-chested breeds who gulp down their food (because the jug forces the dog to literally only eat a couple kibble at a time).\n",
      "\n",
      "First, I feed my dogs fresh raw food I make into patties and frez, each morning they eat one frozen,and I give them Fish oil, Garlic and Klamath shores Blue Green Algae caps. Then at night I give Newmans Chicken can food and mix in their Probiotic Miracle & Enzymes and Plaque off. Then they always have their dry food (Taste of the wild, grain free)anytime they are still hungery.<br /><br /> My 2 big dogs are very healthy at 8 years old, hardly get fleas anymore, I don't use chemical flea or heartwormer products anymore, as one dog had a bad reaction to them and lost most of his hair and had hot spots for two years. Then nat. path vet said my other vet should not have given him the yearly vacinations,which also caused the problems. He went on a 10 week detox after that.)<br /><br />For the alternative heartwormer I do 1 week each mo. I give my dogs Natures sunshine Artemisia Combination 2 in the morning, 1 at night with 1 BlackWalnut. then 2 times that week I will give them 1 HS2. I give these about 20 min. before I give them morning food. Then at night before bed. My dogs weights are 100 and 70. The dog that had allergey, I also would give him first thing in the morning, before eating, Transfer factor, or colostrum, also everyother day a kelp tablet, which I think helped the hair grow back in. I used emu oil with lavender oil and tea tree oil mixed in, on the hot spots. Also for the ears, I used Zymox, OTIC Enzymatic Solution. it worked great.<br /><br />Hope this info helps someone.\n",
      "\n",
      "My four mixed breed dogs (40lbs-100lbs)gobble up Newman's Own dog treats.  But, these terrific dogs gobble up just about anything (except fresh green leafy vegetables), so perhaps their standards shouldn't be the mark of \"goodness\".<br /><br />I'm an ingredient list reader for all foods (human & animal), so that is what I did when I received the Newman's pet treats.  The ingredient list is short & consists of the following:<br /><br />Organic Barley, Organic Lamb, Organic Carrots, Organic Apples, Organic Palm Oil (Preserved with Mixed Tocopherois, a Source of Vitamin E), Organic Molasses<br /><br />The treats themselves are rectangular & scored in the middle.  They are 2\" x 1-/4\" for the full size & 1\" x 1-1/4\" for the 1/2 size.  They do not have a strong smell, but a hint of apple is noticeable (& a grain smell, which I presume is the barley).  My 10oz bag came with 18 full size treats.<br /><br />I like the rectangular shape of the treat.  Sometimes my large dogs get excited about treats & forget about \"nicely\".  With the rectangular shape, my hands won't fall victim to an enthusiastic chomp.  Since the treats are scored down the middle, I can break them down, so my older, smaller dogs can easily eat the treat.<br /><br />Overall, I think the ingredients are excellent for a dog treat, and it is nice that they are adaptable for different sized dogs.\n",
      "\n",
      "We have two picky Lhasa-poo dogs that have turned up their noses at lots of dry dog food.  We thought we would try one more time, and were greatly surprised at how much the dogs loved this food.<br /><br />Packaging is like all dry dog food, delivered in a box to protect the bag. We and our dogs highly recommend this Chicken Soup for the DOg Lover's Soul Dry dog food.  (a real mouthful to say!)\n",
      "\n",
      "I have had my chihuahua since he was a puppy, and he never had much of an appetite. I tried all varieties of dry and canned dog food and he would barely sniff them. He was underweight as a result and his coat looked terrible. I was so glad to discover this dog food. It is the only thing he will eat! Since I began feeding him lamb he has gained a whole pound and his coat is thicker and longer. He also eats the Wellness dry. I really cannot say enough good things about this brand of dog food. It also works for my other chihuahua who has a huge appetite but severe food allergies.<br /><br />If nothing else has worked, give this a try! You may be surprised by how much your dog loves it.\n",
      "\n",
      "Ok let me clarify first of all, why I gave it 4/5 instead of 5/5.<br /><br />If it were to up to me alone, this food is 5/5.<br />The ONLY reason why I took 1 star off, is because my dogs hate the taste :(<br />I have a Pomeranian and a Maltese. Both of them would often just sniff the food, and walk away. They will eventually eat it when they are really hungry, but they just look very disinterested in the food overall. I have the same issue with Blue Buffalo.<br />However, when I alternate them to Orijen, or Taste of the Wild, or Acana, or Fromm, they pretty much gobble them down instantly. (I tend to alternate around different brands and flavors just to make sure they are not deficient in a specific nutrient/mineral).<br />This *small* problem is NOT universal. I have friends whose dogs love this food, and I have seen dogs that absolutely won't touch Wellness. Every dog has its preferences, so its best to experiment around.<br /><br />However, I like feeding my dogs WELLNESS most.<br />Their poop is solid and doesn't stink, and based upon the ingredients list, it seems really good!<br />No by-products<br />No corn<br />No fillers (well except for tomato pomace, which some people consider it as a filler. I personally don't)<br />Omega 3 and 6 levels are on the higher side (which is a big plus!) compared to other brands/foods!!! ^_^<br /><br />I have fed about 2 bags so far, and my dogs haven't had any health problems.<br /><br />Only thing I wish the product can improve, is to maybe include Chicken Fat, instead of using Canola Oil. That will probably make the taste much better for my dogs making them much more interested in it. Canola oil is a cheaper alternative, but its really not a biggie.<br /><br />This is definitely something I recommend to include in your feeding rotation!<br /><br />On the sidenote: if you do not want to risk having a 15 pound bag of food that your dog hates, contact Wellness for a sample! They will send a 4oz packet to you, so you can \"test\" if your dog likes it.\n",
      "\n",
      "My 7 month old LOVES real food and the new organic foods on the market have been a god's send.  I bought a box of the Sweet Ginger Chicken w/ Bananas & Coconut based on the reviews and the overall appeal of the name.  We are now feeding them to our dog, which is appropriate because it looks, smells and tastes like dog's dinner.  Looks: Dark and mealy- so dark that it seems like it must be organ meats (which I have no problem with if it didnt taste awful).  Smells: the smell is so strong the second you open the pouch and VERY much like a can of cat or dog food. Tastes: I taste all of the baby food I give my daughter.  It was pungent and metallic, where the banana and coconut were, lord only knows.  If you must try it, I get it I would too, just buy a packet or two and see how it goes.  Do not buy a case.  On a side note, my dog loves it! So no a total loss.<br /><br />In general the sprout meals are delicious and the texture on the level 3's are chunkier than Plum or Happy Tot.  You can see bit of veg and grains.  Holiday Veg w/ Turkey is a big hit as is the Pumpkin Peach Graham (I serve together but not mixed).  Roasted Banana Mango is really yummy and she LOVES the Yukon Golds with Squash and Parmesan.<br /><br />Beyond Sprout, we prefer:<br /><br />Fruits and Veg: Ellas for a richer consistency and better flavor than Plum or Happy Tot.  Parsnip, Carrot, Apple is a surprise hit. Plum fruits are watery and water is even listed as first ingredient on some. However, the Plum Mish Mash line is much better and my daughter eats all of it.<br /><br />Breakfast: Happy Squeeze (tot) Organic Super Smoothies are awesome, in fact, I'm going to start having them for breakfast myself.  ALL of them taste excellent! Have 100% adult dv of vitamin C, 1/2 vitamin A. 6 grams or so of protein and under 100 cals.  They are thick, and creamy.<br /><br />Dinner: Plum Training Meals seem to be her favs along with the Sprout brand (other than the curry chicken) We have yet to try the salmon but have a case of it ready to go.  She likes the potato and turkey with rosemary (tastes like an herby mash potato) and the chicken pasta (not something an adult would like but I think she likes the texture of the visible chunks of pasta).  My girl has never been able tohave abottle more than 100ml but can eat a whole 4oz training meal.  GO figure!<br /><br />We have landed on plain cherrios vs the canisters which she lost interest in.  Straeberry mum mums NOT caramel or plain and teething bisuits above those.<br /><br />I cant beleieve how much baby food has evolved in a year.  I heat up breakfast and dinner and serve lunch icy cold.  She seems to like the changes.  I got the plum spoon that screws on for when we ar on the go but as a rule, the playtex spoons with silicone are THE BEST!!!! and I have a drawer full. I hope this helps, we really have tried all the snacks and foods we could get our hands on in store and online.\n",
      "\n",
      "Cluster #9\n",
      "\n",
      "These chocolates are the most perfect container for the most tasty brandy I have ever had.  They are a wonderful sleeping pill at night or an evil after dinner treat.  My mouth is watering.\n",
      "\n",
      "I have tried many Tazo and this was a similar to a stronger Lotus. one thing to keep in mind is to not let it sit, otherwise it becomes strong and the next time that you add water to it, the flavor is bland.\n",
      "\n",
      "Without a doubt, these are the BEST Lemon Madeleines I have ever tasted.  The flavor is wonderfully true and the texture is so light and consistent.  You can't go wrong with these, whether you serve them at a high tea or enjoy them by yourself with your favorite beverage.\n",
      "\n",
      "The hazelnut flavor is a little on the light side, but thats the way I like it. It saves me some money on buying the flavored creamer for my senseo coffee. Now I just add milk and sugar and I'm set. I hope they will start making tea for my senseo soon.\n",
      "\n",
      "incredibly refreshing and a mystery in taste - little expensive but hey - why not?\n",
      "\n",
      "You have no idea how many salchichon sandwiches I consumed while in Spain. Neither do I but it was a lot. Salchichon is somewhat like a hard salami but milder and less greasy. This particular product is pretty close to the salchichones I had in Spain. I prefer salchichon to chorizo for sandwiches but I prefer chorizo for eating as-is. Now someone just needs to open a good bakery around here that makes a good so-called \"french\" bread like the ones I had in Spain.\n",
      "\n",
      "If you have a Senseo machine (and frankly, if you are a coffee lover and do not live above a Starbucks, you NEED one) these are the pods to use.<br /><br />Rich, flavourful and designed to work with your machine!\n",
      "\n",
      "Hey for under $20 it's a great little system for keeping your wine ready to serve.  No problems, caps clean in the dishwasher, seems to do a great job.  Nothing is going to be as good as a freshly opened bottle of wine but these come close!\n",
      "\n",
      "I like this soup.  One of the problems with low fat or healthy is it frequently means an inferior or different taste to the regular, not so healthy stuff.  This soup doesn't suffer that particular problem.  If you like classic to eat, this is a nice substitute.\n",
      "\n",
      "Tassimo does all the work for you and Twinings has really hit a home run with their blending for these discs. Hands down, this is the BEST Earl Grey I've ever had!\n",
      "\n",
      "Cluster #10\n",
      "\n",
      "I found this tea about 8 years ago, and it is now the only type of tea bag I use.  Unfortunately, in my area, there is only one supermarket chain that carries it, and they are frequently sold out of it.  Being able to purchase it from Amazon is a great convenience.\n",
      "\n",
      "I've tried a number of decaf teas (6 at last count, I think) and this is my favorite.  It's got body and depth of flavor with subtle hints of souchong, yet soft without the acidic taste some teas have.  Highly recommended.\n",
      "\n",
      "What else can I say.  This is the best tea bag available in the US for the serious( read addicted) Tea drinker.  If it's just too messy to deal with loose tea at work, PG Tips is the best alternative.  The only tea bag I rate above PG Tips is King Cole but unfortunately it's only available when you can con your Canadian friends to buy you some when they go home.\n",
      "\n",
      "I had never heard of English Afternoon tea until I ordered an array of teas to enjoy this Fall and Winter. This is not a brisk, strong tea at all but very satisfying, nonetheless. It has a mellow flavor while retaining the basic character of black teas that I enjoy so much. I will be reordering when supply begins to dwindle. Friends and coworkers have been pleased when I share, too.\n",
      "\n",
      "Sometimes it's necessary to turn away from so-popular blends, and enjoy this old-fashioned classic. It has nice body, and does not leave stains as much as other bagged teas. It allows to make a cup of very decent tea fast, however it's not as good as one made from loose bulk tea.\n",
      "\n",
      "This is my all time favorite Assam tea (other than the kind I can find in London) and it seems to be hard to find in the stores. I am a very serious tea drinker and I love being able to buy it in bulk like this. Excellent find.\n",
      "\n",
      "If you love bigelow black teas, then you will love this assortment. I personally get sick of drinking the same tea over and over again, so this solved my problem!:)\n",
      "\n",
      "I love this tea. I prefer to drink it at nights prior to bedtime as I find the aroma relaxing and gentle. Nice tea!\n",
      "\n",
      "This is like having old fashioned brewed tea.  This really does make a perfect cup of tea, even for a former Englishman that is now an American!\n",
      "\n",
      "Market Spice tea is a real favorite in our family.  We are so glad we don't have to travel to Seattle to buy it now. The tea is worth the trip, but unless we buy an obscene amount, it makes it very expensive.\n",
      "\n",
      "Cluster #11\n",
      "\n",
      "t's a close call, but if you're someone who eats breakfast in transit, Kashi Granola Bars have an edge over both the Nutrigrain too-sweet entries and the crumbly Nature Valley competitors. Neither a treat nor a treatment, Kashi Granola bars are light and just right--a way to get started without either residual guilt over a 7 A.M. candy bar or aversion to grandma's recommended fiber remedy. One warning: they go down easy, so don't take more than a single one with you in the car (or you could wind up scarfing down all six bars between traffic lights). Also, Amazon ships these three-buck packages in a generous-sized box, which may strike some consumers as ecologically irresponsible (wish I'd saved these boxes for a recent move of my mother-in-law. I think I ended up paying more for comparable new ones than the cost of the granola bars).\n",
      "\n",
      "I have tried all of Cherrybrook Kitchen Products and they are fabulous! Even without Eggs, Dairy and Peanuts these products taste even better than if I made it from Scratch. The Chocolate Chip Cookies rise well, have plenty of Chocolate Chips and taste great! I would highly recommend them.\n",
      "\n",
      "I'd love to know the kind of bars the first reviewer eats; because they must be some amazing bars! My entire office loves the Nugo bars. They are actually made a few doors down the street from my office. I think the coffee bars, chocolate blast, and banana bars are the best. Peanutbutter pleasers are good as well. I recommend them. I've had many of the regular store bought brands and find these to be more chocolaty and delicious. Good luck!\n",
      "\n",
      "where am I; heaven????? boy is this chocolate the most fabulous I have ever tasted in my life; can I get a monthly chocolate membership for this?<br /><br />I am now spoiled; will never buy a chocolate bar at the market again!!!!!\n",
      "\n",
      "I've found Timothy's K-cups to be consistently good, better than the Green Mountain varieties I've tried (with the G.M. exceptions of Nantucket and Newman's Own.) But Parisian Night is the first Timothy's offering that didn't impress me. I bought two boxes of it from Amazon and have tried using different brew strengths, but it always tastes bland. It's bold and strong as advertised, but plebeian. To someone who's just bought a Keurig and had this blend as their first cup, it might taste pretty good; but compared with all the other, better K-cup varieties that are available, this one is better off skipped. I think it's just a fancy name for a boring blend that has nothing distinctive about it at all. Their \"Midnight\" dark roast is definitely more tasty, and even better than that are their Columbian and Italian K-cups, which are very smooth. I think Timothy's has the best Columbian K-cups on the market. But Parisian Night, well...let's just say that everybody makes mistakes!\n",
      "\n",
      "Not only does this soda taste great, but it is sweetened NATURALLY.  High Fructose Corn Syrup (HFCS) is in practically everything these days, and it is one of the worse things we can consume.<br /><br />I discovered recently that being AmerAsian I am an easier target for Type 2 Diabetes and HFCS is a huge contributor towards that condition because it is an extremely refined sweetner.  Therefore, I've done my best to stop buying products containing HFCS.  When it comes to fruit juices, this is pretty easy.  However, I have been a Coke consumer for many years.  Boylan's CaneCola is the only cola I've tasted that actually tastes like a soda, but doesn't contain HFCS.  I have tried one other brand called Cricket.  While that is good, you can tell it is made with tea.  Boyan is better!  And I think it is even better than Coke!\n",
      "\n",
      "If you are looking for a healthier alternative to a potato chip with the same taste, LOOK FURTHER!! These chips taste COMPLETELY different than a white potato chip.  I was definitely surprised when biting into this chip--it tastes saltless and almost bitter! Tastes a little like fried plantain bananas--definitely not on my top ten list of favorite snack food!\n",
      "\n",
      "I am trying to follow an organic and gluten free diet. I also like to buy from reputable companies. So it is hard to come across products that meet my criteria. But these cookies do it. They also taste deliscious. It is hard to believe that they are not made from wheat. They also taste very fresh.\n",
      "\n",
      "I grew up in Hawaii and often ate coconut in many forms--fresh out of the shell (yes, I laughed at Tom Hanks' inability to open a coconut in \"Cast Away\"--I could have told him to look for the soft spot near the top), in baked goods, as haupia (a Hawaiian coconut dessert), and of course in pina coladas. Now living on the East Coast, I became disgusted with the overly-sugary, fake-tasting coconut flakes found in typical grocery stores, so I was delighted to find this product. I mix these coconut flakes with some of the coconut milk powder and warm water, and after letting the flakes soak for a few minutes, I eat the mixture straight out of the bowl. It tastes almost like fresh coconut this way. I will eventually get around to using these flakes in baked goods, but it's so good plain that I'm reluctant to mix it with anything else.<br /><br />i will definitely order more when I finish my current supply.\n",
      "\n",
      "I first tried one of these bars after finding it on clearance at a local Target store. OMG! The dark chocolate has just the right amount of sweetness to it, and the mousse center melts on your tongue. It is a wonderful taste experience! In my opinion, this tops all the other dark chocolates I have tried (and I try everything I can get my hands on, so I consider myself quite the dark choc. connoisseur). I haven't been able to find it locally, so am ordering it off the web, because I HAVE TO HAVE IT!!!\n",
      "\n",
      "Cluster #12\n",
      "\n",
      "Blend a little apple cider mix into your Tazo Passion Tea and see what happens. This creates a magical apple cider experience with hints of cranberry and hibiscus flowers gathered in an ancient land.<br /><br />Snuggle Up Spiced Cider is a good choice because you can then spoon in the exact amount you desire, but packets of cider work equally well. This is the type of tea you would expect to enjoy after skiing in some distant forest where you are also munching on homemade brownies or eggnog cookies. Apple cider also works very well with the Gypsy Teas, especially the Lemon Jasmine.<br /><br />The deep purple/red color and hibiscus fragrance of Tazo Tea is enough to make anyone passionate about tea. Yet, is this really tea? It looks like tea, but it is really an herbal infusion made by steeping hibiscus flowers, orange peel, licorice, cinnamon, rose hips, lemongrass and red poppy in a swirling of hot water.<br /><br />The original flavor is also slightly reminiscent of hot apple cider or hot cranberry juice which is why it is extra delicious with a cider mix. Tazo Teas are a mysterious experience into which you can lose yourself with a sense of abandon. So far I've tried more flavors than I can count and have always been impressed.<br /><br />~The Rebecca Review\n",
      "\n",
      "If you're going to sip this lusciously delicious tea you might as well grab your kitty or puppy, a good book, blanket and snuggle up in the favorite armchair because good times are ahead!<br /><br />Having the pleasure of all ready trying out some of the Ahmad teas I was pretty sure this was a good purchase but it ended up being tasty beyond my predictions. This tea tastes like a wonderful black smooth tea with the succulent mouth watering flavors of juicy apricots. I prefer a black tea with fruit blend to herbal fruit teas when I want something soothing because the black tea give the fruit unparallel depth and character.<br /><br />This really bursts with flavor when sugar is added and it can be drank day and night. I'm really looking forward to tasting other Ahmad flavors like Strawberry and passion fruit and maybe their Earl Gray. This is easily one of my favorite teas and I can't see anyone not loving it from the first sip!\n",
      "\n",
      "It was my favorite tea until the damned peppermint was added. Now it's a completely different tea! This new tea is not satisfying at all unless of course you want to feel like you're brushing your teeth instead of drinking tea.<br /><br />Celestial Seasonings really shouldn't claim this to be the same tea because it really isn't. That's too bad considering it got the company started and all. I just wish there was a way to get the tea without the peppermint but it'll probably never happen.\n",
      "\n",
      "As readily available tea brands go, I prefer Bigelow's Earl Grey to Twinings' version but I had only tried the tea bags so I took a chance on the loose tea based on the positive reviews.  Unfortunately, the tea was just as meh as I remembered.  I actually prefer regular black tea such as PG tips to this Earl Grey.<br /><br />I am going to use up the loose tea one tablespoon at a time in a 1-quart Ball canning jar for sweet tea (1/4 to 1/3 cup of white sugar and a mint sprig).\n",
      "\n",
      "****<br />I enjoy bergamot a lot, but this tea was way too fragrant for me; still it was different and enjoyable to try. The bergamot flavor is strong, not subtle, and a bit overwhelming---it's all you can taste.<br /><br />The ingredients of this tea are premium black teas with pure oil of bergamot---that's all.<br /><br />The manufacturer writes: \"Oil of bergamot comes from the rind of a citrus fruit which grows very well in the Calabria region of Italy. Pure top quality oil of bergamot is expensive but no blend or man-made flavoring can match the ethereal aroma and finely nuanced flavor of the real thing. Certain Earl Grey fanatics have grown especially fond of the top grade Calabrian oil of bergamot that we use and have asked for more, ..More,... MORE! Thus was born Stash Double Bergamot Earl Grey. In our Double Bergamot Earl Grey tea, the black tea base still serves as a solid foundation for this blend, but the oil of bergamot takes wing and soars to new unprecedented heights. The flavor is quite pronounced but not at all soapy or bitter which would happen with low grade oils. Is the flavor too strong? For a conservative drinker, maybe yes, but more adventurous types really seem to like it.\"<br /><br />I must not be adventurous enough. I do agree with the manufacturer, though, and it might be the tea for you if you're a huge fan of bergamot and want a lot of it, and I also agree that it tastes pure, not soapy or bitter at all.<br />****\n",
      "\n",
      "This Tangerine Orange Zinger herbal tea provides a luscious and refreshing break from your daily grind and helps you relax as well. It's got a great taste to it that is not overpowering and if you let it steep about three and one-half minutes you're bound to enjoy it as much as I do! As another reviewer notes, the main effect is a distinctly citrus scent and taste tweaked just a bit for a really full bodied flavor and aroma.<br /><br />Each bag contains the natural ingredients of red hibiscus tea with orange peel and natural tangerine flavor. There are no artificial ingredients! Celestial Seasonings even added some vitamin C to make this even better for you!<br /><br />The stringless tea bags can easily be removed from your cup whenever you want just by using a spoon or anything similar to get them out of the cup. Stir the tea bag around and up and down a bit while it's in your cup before you drink it.<br /><br />The tea is also caffeine free, which is a plus for those of us who don't want caffeine in our diets. That is something I always prefer.<br /><br />If you like a special type of citrus flavor to your tea, this is highly recommended! Enjoy!\n",
      "\n",
      "PG Tips Black Tea, Pyramid Tea Bags, 80-Count Boxes (Pack of 4)  I needed some teabags for quickly serving company so gave this tea a try instead of the Liptons and RedRose from the store.  I found that the PG Tips make a rich tasty tea.  While I can buy superior loose teas from individual estates in various countries, not all guests want to fuss that much over a cup of tea.  So I got this to fill in the need for a quick cup.  It does it very well.  Recommended\n",
      "\n",
      "After trying to find a green tea that I could actually drink and enjoy, I found white tea. It has all the health giving benefits of green tea -- maybe even more -- and it's so very enjoyable! Of all the white teas I have tried, this is my absolute favorite. The white tea is smooth: it has none of the bitterness or sharp taste of green tea, and the addition of raspberry is a brilliant touch. To enhance the raspberry flavor, try adding a little sweetener -- your choice. Drinking a cup of this tea is like giving yourself a present. Thanks Stash, you really do create world-class teas.<br /><br />P.S. Remember NOT to boil the water for this tea: it's far too delicate for boiling water. Instead, use water just under the boiling point and only brew for no more than 4 minutes -- it does make a difference.\n",
      "\n",
      "Calling this blend \"English\" Breakfast is a bit of a misnomer, because it was a Scotsman - a 19th century Edinburgh tea master named Drysdale - who first marketed his particular blend under the name \"breakfast tea.\" It proved so popular, however, that it was soon copied by tea houses all over Britain, many of which then added the word \"English,\" which has been part of its name ever since.<br /><br />English Breakfast can contain black teas from a variety of origins, among them India, Sri Lanka, Kenya, Malawi and China. Stronger than most other teas, the blend is made to match the traditionally heavy English breakfast, which to this day often includes pork, sausages and eggs, and for this reason English Breakfast tea also maintains its flavor very well with the addition of cream or milk. It is certainly less refined than Darjeeling or even Earl Grey, but hard to beat as an everyday \"work horse,\" and as good or better an early morning pick-me-up as any kind of coffee.\n",
      "\n",
      "While not the finest Earl Grey out there, it sure is packaged for maximum appeal.  The petite cylindrical canister  is sized just right for glorified-spice-rack tea cabinet storage, with artwork that's just short of overwrought. Pop off the top, and lo: it's double-hulled, requiring an extra bit of effort for each pot brewed.  Special!  This second satisfying-pop comes complete with a wallop of sharp, nose-tingling bergamot.<br />Regular tea drinkers may find Rishi's Earl Grey most suitable as garnish to a darker, fuller-bodied tea (a couple of spoons on top of some PG Tips makes for a nice afternoon pick-me-up). Otherwise they may find they go through a can a week, at best.<br /><br />Alone, this tea brews to an orangeish hue, no darker, and always tastes slightly understeeped, or overmilked.  I tried to oversteep, but no dice: It's as if the tea's been neutered, the merest hint of tannin erased. It's unnerving.<br /><br />If you want a tea that will pretty much always present pretty well, and are willing to pay extra for that pritnear peace of mind, Rishi's Earl Grey is a good bet.  If you like more involvement with your tea -- attention to leaf volume, water temperature, steeping time, ratio of additives, etc. -- stick with Twinings, Numi, or Taylors of Harrogate.\n",
      "\n",
      "Cluster #13\n",
      "\n",
      "Pesto Genovese is, without a doubt, my favorite pesto.  My family and I eat it on capelli d'angeli at least once every week.  We add a salad and a loaf of crusty Italian bread and the meal is simple but delicious beyond compare.<p>This brand of Pesto Genovese is one of my alltime favorites.  So many times, Peste Genovese can be too oily, covering up the taste of the basil and the pine nuts.  Not so with this pesto.  Every ingredient seems to be perfectly balanced so you get the freshest, most flavorful Pesto Genovese available.  The taste of the basil and the pine nuts is delicate, but so exquisite.<p>If you like Pesto Genovese or just want a change from more &quot;traditional&quot; tomato sauces, I urge you to give this pesto a try.  I don't think you can go wrong.\n",
      "\n",
      "As a serial cereal eater, I have had my bouts of addiction throughout my life from Apple Jacks and Count Chocula during my early childhood through an extensive adolescence with Sugar-Frosted Flakes, a short-lived health-oriented period with Bran Flakes and of course, my self-deceptive dieting tactics using Special K. My latest has been Kashi's Heart to Heart, which I find flavorful and filling. There is a slightly sweet taste which has something to do with the light honey glaze on the Cheerio-looking rings, though the most pervasive flavor is a toasted oat. I don't find a need for sugar, but I do like to pile up blueberries if I have them in the fridge.<br /><br />I have to admit that I have used it as a dinner replacement on really lazy evenings. The best part is that the low-fat, low-sodium cereal is heart-friendly (thus the name) with one gram of soluble fiber per serving. The box claims 11 servings of 3/4 cup each, which for a cereal lover, is a stretch. I've been lucky to eke out eight bowls since I tend to overflow the bowl. Still, the calorie count is reasonable at 110 of which only 15 come from fat. For a price that is on par with local retailers, Amazon delivers the cereal in cases of six boxes, which I think is a reasonable medium-term amount.\n",
      "\n",
      "I would have given this five out of five stars, it is just this soup (like ALL packaged soups) is a bit on the salty side. BUT, not as salty as an average cup of \"cup of noodles.\"<br /><br />This soup has a much better flavor than instant soups, and, even though I'm not sure what miso is, I'm sure it is far healthier than the salted preservative loaded dehydrated chicken bits one finds in instant soups.<br /><br />I liked it so much, I've even given it in a care package to my sister in law who is in college. A great fast soup, and a healthier alternative to other instant soups.\n",
      "\n",
      "I love this cereal; I eat it every morning with maple syrup or honey, raisins, and walnuts.  It is never pasty for me, as it is for the other reviewer, unless I let it cook way too long or let it sit to cool too long.  I cook it for five minutes, turn off the heat and let it thicken a couple of minutes more as I add my raisins and walnuts and maple syrup.  Then I stir in rice milk until I get it to the consistency I like.  Though I don't like rice milk by itself or on any other cereal, it does taste really good on this rice cereal, with the added benefit of making the whole thing easier to digest.  Rice cereal is the easiest cereal to digest, anyway, but adding rice milk instead of cow's milk makes it even more easier.\n",
      "\n",
      "I got a variety pack of Sahale mixes, and this was the only one i liked. The others just didn't work for me, though i only actively disliked one (sing buri, my coworkers all hated it too, though they gladly ate the other flavors i dismissed).<br /><br />For the reviewer who said it was too peppery, either they're extremely sensitive to black pepper, they got a badly mixed bag, or by chance grabbed a bit that was more peppery than the rest and didn't explore further. I think the pepper is perfect, strong enough to give it a little kick and sting, but light enough that it's not the primary (or even secondary) flavor. There is some variability, though, and once in a while you'll get a mouth full of pepper.<br /><br />While i gladly eat these for a snack at my desk at work, they are a must-have for long plane trips. The nuts make it filling, and the cranberries and glaze give it a nice sweet touch without being so sugary that i get the jitters trapped in a middle seat on hour 2 of a cross-country flight.\n",
      "\n",
      "Cinnamon Roll (not to be confused with Brown Sugar Cinnamon) is, without a doubt, the most delicious of all Pop-Tart flavors.  These tarts are lightly iced with white squiggles, so they're not overly sweet like some of the other varieties.  The crust is perfect, and the filling tastes just like a cinnamon roll (hence the name).  Unlike a real cinnamon roll, however, there's no sticky syrup to get all over your hands, so you can easily grab one of these pastries as you head off to work or school.  They are, truly, \"Crazy Good.\"<br /><br />Nutrition Facts: Each pastry contains 210 calories; 7 grams of fat; 14 grams of sugar; 34 grams of carbohydrates; 2 grams of protein; and NO cholesterol whatsoever.\n",
      "\n",
      "While I love the fact that this gum does not have all the artificial crap in it that most gum does, it is lacking in flavor.  It has a pretty good taste for a few minutes then it begins to feel like you are chewing on a rubber band.  I got this for my son who can't have artificial colors and flavoring, preservatives, etc, and he won't chew it.  My older son who has braces likes it and can chew it so at least it won't go to waste.\n",
      "\n",
      "...Then you've never been on a diet in the winter time.  If the only asparagus out there was the fresh kind, I'd just go into withdrawal.  Granted, the canned spears taste absolutely NOTHING like the fresh, but that's okay.  They still have virtually no calories; they're a natural diuretic; they taste good -- and faintly asparagus-like.  The texture is completely different -- but again, just think of it as a separate kind of vegg.<br /><br />good cold out of the can with a little balsamic vinegar; and actually, good in soup when you cut them up.  Some relative of mine used Green Giant asparagus for a baked dish that was a lot like potatoes au gratin -- but with GG asparagus instead of potatoes.  Kind of a green, gooey, messy thing, but the flavor was nice.  I suspect that if you sub'd 2% sharp cheddar cheese, 1% milk, and used a bit of Egg Beaters instead of real eggs, it would be a decent low-cal quicky meal.<br /><br />A good, utilitarian food.  Fresh is always better -- but with our 110-in-the-shade summers -- fresh is about 1 week in May.\n",
      "\n",
      "Simply put, this drink is delicious, and I didn't reach this conclusion on my own. I introduced Izze's Sparkling Apple to more than three people, and everyone who tried it loved it. Even my dad, who's pretty picky about drinks, really liked it a lot. It's not too sweet, it's not too carbonated... it's like apple cider with a twist! It's great!<br /><br />It smells delightful, and I liked the packaging as well. I thought the cans were some of the most appealing I've seen in awhile.<br /><br />I definitely recommend Izze's All-Natural Sparkling Apple, and I'm sure you'll like it too!\n",
      "\n",
      "First off, note that this is one of those pour-over flavor packet types of popcorn.  Each box comes with two packets of the marshmallow flavoring, which doesn't especially taste like marshmallow, more like a watered-down cake icing.  The popcorn on its own seems to have a slight hint of marshmallow flavor, too. It's pretty much the best popcorn I've ever tasted, but its very sticky to eat... much more bothersome than the greasiness of pour-over butter popcorn, since most of that absorbs into the popcorn.  I just have to knock one star off the score because of the stickiness.\n",
      "\n",
      "Cluster #14\n",
      "\n",
      "Unfortunately most people are ill informed about vegan cats, including most veterinarians.<br /><br />Wild cats are in fact obligate carnivores. However, in domesticating the house cat and bringing it into our homes we have effectively removed the cat from its natural prey of mice, insects, birds, lizards, and other small creatures. During the past 100 years or so, as the human food industry was searching for a way to salvage and use all the waste materials from its processing lines, it came upon a wonderful solution. Lets boil it all up and dry it out and add it to the food we make for cats and dogs. As a result, the vast majority of commercial pet foods contain what are euphemistically referred to as the four D's, dead, dying, disabled, and diseased animals, along with other quite undesirable materials. Quite frankly, if you are feeding this junk to your pets, you are effectively poisoning them. We are seeing diseases in pets today that we have never seen before because of the wide variety of contaminated ingredients that are finding their way into the food we feed our companion animals. You know \"garbage in, garbage out!\"<br /><br />Now the issue here is not meat; it is about providing all the essential and non-essential amino acids (the building blocks of proteins) and vitamins and minerals that are bio-available to the particularly unique physiology of felids (cats). The quality, quantity, and availability of these nutrients can come from any source, and for those of us who are vegan, the best source is vegetable based.<br /><br />Tens of thousands, perhaps hundreds of thousands, of cats around the world live quite well on one of the several available vegan cat foods that are recognized as nutritionally complete. I personally have had 3 1/2 years of experience in feeding the Evolution kibble product that this review is addressing. It is a high quality product that is AAFCO certified as nutritionally complete for all life stages in cats. Not only is this product safe to feed your cat, but if you follow the recommended feeding procedures, you will find many benefits to both your cat's health and your wallet.<br /><br />If you desire more detailed information, I invite you to do a google search on vegan cats. I would put my web page information about this issue on this review, but it is against the policy for writing reviews on Amazon.<br /><br />Just for everyone's edification, I have researched this issue for well over 500 hours, read hundreds of technical papers, visited hundreds of web sites, and have made a commitment to specialize in feline nutrition as part of my Veterinary Technician studies. I probably know more about feline nutrition than 95% of all the vets in the world.<br /><br />My feline son is a vegan and will remain so because I am absolutely certain that his quality of life will be enhanced by his diet and that this choice will not be a detriment to his health.<br /><br />-------------------------------------<br /><br />Since writing this review in 2006 I have had a change in position about this particular product after 4 years of personal experience. The manufacturer of the Evolution foods was changing the formulation of the food on a regular basis and during that time I found that the Feline Kibble was not able to maintain the pH level in the urine of cats that was promised on the label and in their literature. At least that wasn't the case with my former feline son and my current feline son. As a result I can no longer recommend the use of Evolution Feline Kibble for male cats. Since urinary issues are different between male and female cats the Evolution Kibble MAY be satisfactory for feeding to female cats. Nutritionally the Evolution foods seem to be fine for nutrients but not necessarily adequate for maintaining the proper pH levels to avoid urinary issues for male cats.<br /><br />Consequently I am now recommending male cats use the Vegecat pH diet provided by Harbingers of a New Age. My son has been eating this food supplement in a specially prepared gluten formulation I created called a vegan feline roast. It is 62% protein, 33% fat, and 5% carbs and has a moisture content of about 60%. Almost a perfect combination of ingredients to mimic natural prey. My son finds this product to be very palatable and his urinary pH has been consistently at 6.4 for the three years that we have been producing and consuming this food. The drawback is that it takes about a half hour every 3 days to make the food and the cost is equivalent to a premium cat food. But on the other hand my son is trim, full of energy at 6 1/2 years, enjoys great health, no longer has urinary tract issues, and no other animal had to die in order to provide my son with life-giving nutrition.<br /><br />UPDATE:  4/17/11<br /><br />For those of you who are still considering feeding the Evolution kibble, please heed this warning.  Kibble is only 10% moisture content.  If you follow the directions given by the manufacturer to soak the kibble prior to feeding, you will end up with a mushy material that your cats may or may not like.  The danger in feeding the dry kibble is that your cat will eventually become so dehydrated that no amount of drinking will be sufficient to avoid hydration related illnesses.  Cats do not naturally drink water, they almost exclusively obtain all of their hydration from the food that they consume.  If they are eating something that only has 10% moisture, upon consumption the moisture that is contained within the digestive tract of the cat will be sucked into the food in order to give it enough fluidity to pass through the intestines.  This will often lead to gastro-intestinal diseases. Your cat will be constantly drinking water to make up for that deficiency, but no amount of drinking is enough to avoid the dehydration problem.  So please remember that the best source of moisture for your cat's health, comes from a wet food diet that is around 70% moisture.<br /><br />In October 2008 I wrote an article about vegan cats published in VegFamily magazine.  This information and more will help those who are interested in a vegan diet for cats understand more of the issues.<br /><br />UPDATE:  8/27/12<br /><br />My vegan feline son is now 8 years old and still maintains an extremely healthy life with absolutely no issues of any kind.  He has been using our Vegan Feline Roast product for the past 5 and 1/2 years and his lab tests indicate that his nutritional needs are being adequately met by his vegan diet.<br /><br />For those who are sceptical about a vegan diet for house cats, there is ample evidence that several vegan products are available to satisfy the nutritional needs of cats.  I am still not convinced that Evolution is a good product to feed based on my past history.  There are thousands of customers that seem to successfully feed the Evolution product; however, I believe that our Vegan Feline Roast Mix is a superior product that will yield far better results over the lifetime of feeding any house cat.  Our product is based on the Vegecat phi supplement offered by HOANA, which I have found to be an excellent product for hitting all of the missing nutritional elements that would otherwise come from meat.  The Vegecat product line has been successfully feeding thousands of cats over a 27 year period and we highly recommend the use of Vegecat for those people who wish to formulate their own vegan cat food.  The only difference between our food product and the HOANA vegecat product is that our product is a ready-to-make mix that has been specifically formulated for a high protein/high fat food that is easy to make and highly palatable to the vast majority of cats.<br /><br />I would caution people feeding the Evolution kibble to reconsider doing so.  The problem with kibble in general, not just the Evolution product, is the 10% moisture content of the food.  Cats that eat kibble exclusively will invariably become dehydrated and will not be able to consume enough water by drinking to avoid the condition.  Evolution kibble that is soaked with water prior to feeding, as recommended by the manufacturer, is an attempt to avoid this issue.  However, by soaking the product you will reduce the palatability quality to most cats and will make it harder for them to continue to want to eat the product.  This is a strategy to fix a problem that is inherent to the product itself.<br /><br />As time goes on, I become more convinced that using our Vegan Feline Roast product may in fact be a cure for diseases in cats like FLUTD and diabetes.  At some point in time I would like to perform a long term double blind scientifically significant study to support my empirical observations.  When my son started out 7 years ago eating Evolution kibble, he quickly developed a FLUTD condition, after 18 months of use, that cost $1500 at the vet to fix.  The last 5 1/2 years of eating nothing but our Vegan Feline Roast he has remained FLUTD free and maintains excellent health.  Just the savings alone from avoiding annual teeth cleaning has more than paid for itself in the use of our product.<br /><br />So my bottom line is to recommend not using Evolution Kibble in favor of either the HOANA vegecat supplement or our Vegan Feline Roast Mix.\n",
      "\n"
     ]
    }
   ],
   "source": [
    "for i in range(15):\n",
    "    print(\"Cluster #{}\\n\".format(i))\n",
    "    reviews_in_this_cluster = final['Text'][np.where(kmeans.labels_==i)[0]]\n",
    "    for review in reviews_in_this_cluster[:10]:\n",
    "        print(review + \"\\n\")"
   ]
  },
  {
   "cell_type": "markdown",
   "metadata": {
    "_uuid": "bfe7740c58a89e114b07e795981478e973eaf9cd",
    "collapsed": true
   },
   "source": [
    " ### observation\n",
    " ### cluster 0 belongs to chocklet products\n",
    " ### cluster 2 belongs to cat foods\n",
    " ### cluster 3 belongs tocoffee products\n",
    " ### cluster 4 belongs to green tea\n",
    " ### cluster 7 belongs to senseo machines\n",
    " ### cluster 8 belongs to dog foods\n",
    " ### cluster 10 belongs to tea products\n",
    " ### cluster 13 belongs to soup products\n",
    "  \n"
   ]
  },
  {
   "cell_type": "markdown",
   "metadata": {
    "_uuid": "a3973368b7d921838a6970ecd195bff54216532c",
    "collapsed": true
   },
   "source": [
    "# k-means with tf-idf "
   ]
  },
  {
   "cell_type": "code",
   "execution_count": 31,
   "metadata": {
    "_uuid": "25e87712e38737a58323b04e39921eaec130feed"
   },
   "outputs": [],
   "source": [
    "tf_idf_vect = TfidfVectorizer()# It will create unigram as well as bigram\n",
    "final_tf_idf = tf_idf_vect.fit_transform(final_train)\n"
   ]
  },
  {
   "cell_type": "code",
   "execution_count": 32,
   "metadata": {
    "_uuid": "faceae8d62ef77a9949820bf83e4d2bd1c1d5917"
   },
   "outputs": [],
   "source": [
    "scaler_tf=StandardScaler(with_mean=False)\n",
    "scaled=scaler_tf.fit_transform(final_tf_idf)"
   ]
  },
  {
   "cell_type": "code",
   "execution_count": 35,
   "metadata": {
    "_uuid": "2afe9df254fdbc1a0de267a42c120e29d7db6fe6"
   },
   "outputs": [],
   "source": [
    " wcss=[]\n",
    "from sklearn.cluster import KMeans\n",
    "for i in range(1, 20):\n",
    "    \n",
    "        \n",
    "    kmeans = KMeans(n_clusters = i, init = 'k-means++',random_state = 42)\n",
    "    kmeans.fit(scaled)\n",
    "    wcss.append(kmeans.inertia_)"
   ]
  },
  {
   "cell_type": "code",
   "execution_count": 36,
   "metadata": {
    "_uuid": "1cd6cf4ed0123e407d13c15ce15610db90f82c8b"
   },
   "outputs": [
    {
     "data": {
      "text/plain": [
       "Text(0,0.5,'Error Rate')"
      ]
     },
     "execution_count": 36,
     "metadata": {},
     "output_type": "execute_result"
    },
    {
     "data": {
      "image/png": "[encoded data removed]",
      "text/plain": [
       "<Figure size 720x432 with 1 Axes>"
      ]
     },
     "metadata": {},
     "output_type": "display_data"
    }
   ],
   "source": [
    "k=list(range(1,20))\n",
    "plt.figure(figsize=(10,6))\n",
    "plt.plot(k,wcss,color='blue', linestyle='dashed', marker='o', markerfacecolor='red', markersize=10)\n",
    "plt.grid()\n",
    "plt.title('Error Rate vs. K Value')\n",
    "plt.xlabel('K')\n",
    "plt.ylabel('Error Rate')"
   ]
  },
  {
   "cell_type": "markdown",
   "metadata": {},
   "source": [
    "### the best k is 13"
   ]
  },
  {
   "cell_type": "code",
   "execution_count": 37,
   "metadata": {
    "_uuid": "34380971a7aedb7ccabb6d11d2ff6399d9e37a29"
   },
   "outputs": [
    {
     "data": {
      "text/plain": [
       "KMeans(algorithm='auto', copy_x=True, init='k-means++', max_iter=300,\n",
       "    n_clusters=13, n_init=10, n_jobs=1, precompute_distances='auto',\n",
       "    random_state=42, tol=0.0001, verbose=0)"
      ]
     },
     "execution_count": 37,
     "metadata": {},
     "output_type": "execute_result"
    }
   ],
   "source": [
    "kmeans = KMeans(n_clusters = 13, init = 'k-means++',random_state = 42)\n",
    "kmeans.fit(scaled)"
   ]
  },
  {
   "cell_type": "code",
   "execution_count": 38,
   "metadata": {
    "_uuid": "ad8830e66db48d5391ae09eb1b95697558c2fbf2"
   },
   "outputs": [
    {
     "name": "stdout",
     "output_type": "stream",
     "text": [
      "Cluster #0\n",
      "\n",
      "This brand is properly cut across the grain, so it's fairly easy to eat, and the flavor is distributed through the cuts, rather than sprayed on. It made a pretty good stew meat after long cooking as well, though it had to be broken into small pieces to rehydrate.\n",
      "\n",
      "I'd love to know the kind of bars the first reviewer eats; because they must be some amazing bars! My entire office loves the Nugo bars. They are actually made a few doors down the street from my office. I think the coffee bars, chocolate blast, and banana bars are the best. Peanutbutter pleasers are good as well. I recommend them. I've had many of the regular store bought brands and find these to be more chocolaty and delicious. Good luck!\n",
      "\n",
      "One of my guilty pleasures.  I've had baklava from many places and of many types.  I'm less enthused about those made with rose or orange flavored sugar water, and love that made with honey.  These are a spiced honey and walnut combination.  For those who prefer pistachios, however, these may not impress.\n",
      "\n",
      "Based on the mostly positive reviews, I purchased it. Well, believe the negative reviews. The cheap (think dollar store) glass teapot WITHOUT strainer holds 18 ounces. Since I just received this yesterday, I only used one flower which failed to bloom and the tea flavor was not impressive. The concept is unique, but way too pricey for what you get. As for the bamboo box, it is pretty but not really sufficiently sturdy to store anything except very light weight items.\n",
      "\n",
      "Not only does this soda taste great, but it is sweetened NATURALLY.  High Fructose Corn Syrup (HFCS) is in practically everything these days, and it is one of the worse things we can consume.<br /><br />I discovered recently that being AmerAsian I am an easier target for Type 2 Diabetes and HFCS is a huge contributor towards that condition because it is an extremely refined sweetner.  Therefore, I've done my best to stop buying products containing HFCS.  When it comes to fruit juices, this is pretty easy.  However, I have been a Coke consumer for many years.  Boylan's CaneCola is the only cola I've tasted that actually tastes like a soda, but doesn't contain HFCS.  I have tried one other brand called Cricket.  While that is good, you can tell it is made with tea.  Boyan is better!  And I think it is even better than Coke!\n",
      "\n",
      "I live in the dorms without a kitchen so making a cup of coffee was really easy with this. Especially when I need to stay up late to study or to wake up after 2 hours of sleep. Its just like making tea and tastes decent enough. Not starbucks but good enough with some sugar and cream.\n",
      "\n",
      "A little harder to find than most of the other Larabars....by far my favorite.  All natural and very light lemon flavor. Packed with nuts to satisfy hunger for several hours and just sweet enough to keep cravings at bay.  My six year old even likes these.\n",
      "\n",
      "I got a variety pack of Sahale mixes, and this was the only one i liked. The others just didn't work for me, though i only actively disliked one (sing buri, my coworkers all hated it too, though they gladly ate the other flavors i dismissed).<br /><br />For the reviewer who said it was too peppery, either they're extremely sensitive to black pepper, they got a badly mixed bag, or by chance grabbed a bit that was more peppery than the rest and didn't explore further. I think the pepper is perfect, strong enough to give it a little kick and sting, but light enough that it's not the primary (or even secondary) flavor. There is some variability, though, and once in a while you'll get a mouth full of pepper.<br /><br />While i gladly eat these for a snack at my desk at work, they are a must-have for long plane trips. The nuts make it filling, and the cranberries and glaze give it a nice sweet touch without being so sugary that i get the jitters trapped in a middle seat on hour 2 of a cross-country flight.\n",
      "\n",
      "While I love the fact that this gum does not have all the artificial crap in it that most gum does, it is lacking in flavor.  It has a pretty good taste for a few minutes then it begins to feel like you are chewing on a rubber band.  I got this for my son who can't have artificial colors and flavoring, preservatives, etc, and he won't chew it.  My older son who has braces likes it and can chew it so at least it won't go to waste.\n",
      "\n",
      "I can't put into words how delicious this tea is.  If there is a perfect tea taste, it would have to be silver needle.<br /><br />It is very pricey, but after trying it in the white sampler from adagio, I decided it was well worth to keep around.  Mixes great with all kinds of herbals, and makes great night-time blends.<br /><br />This is a great purchase for any tea lover!<br /><br />As always, Adagio devlivers an amazing procuct.\n",
      "\n",
      "Cluster #1\n",
      "\n",
      "As the product description reads, the Zoe Lifestyle Low Calorie Treat Sticks for dogs are low fat, low calorie ingredients with added L-Carnitine (improve heart function and exercise capacity in dogs),  In addition, the treats are made with natural, ingredients to help fuel and maintain your dog's active lifestyle.<br />These treats contain:<br />* Organic Quinoa  a high energy, high fiber, high protein super grain<br />* No Gluten<br />* No Wheat<br />* No Corn<br />* No Soy<br />* No dyes or additives<br />* Cinnamon/Spice Flavor<br />According to the ad, these sticks are safe for dogs with allergies to wheat and gluten. They are made in the USA, Zoe treats contain APHIS-certified (Animal and Plant Health Inspection Service) ingredients and adhere to pet food safety standards established by the Association of American Feed Control Officials (AAFCO). There are 6 Large Sticks in the 6.6 oz pouch.  Approzimately $1.13 per stick with free Amazon shipping.  Reilly (English Bulldog 9 week old 73# puppy  loves the them!\n",
      "\n",
      "Cluster #2\n",
      "\n",
      "The pet food industry can be one of the most infuriating as you start doing research and discovering what trash manufacturers (and the vets who get paid off by the manufacturers) push onto the unsuspecting public. For reference, don't ask your vet - do some Internet research at sites like, for example, petfoodratings.net. What you'll find is that even the supposed \"high-end\" lines from basically every major supermarket label are horrible for your fuzzy friends. People who trust the marketing or trust their vets overpay and feed their cats foods that are full of carcinogens, cheap ingredients that are inappropriate for a cat's digestive system, and byproducts that provide nothing of value and are basically a way to make cheap profit off of literal garbage. It's a tragedy, as these same cats end up with shorter lifespans, kidney problems, UTIs, cancer, and a host of other issues, all of which could have been avoided by a high quality food.<br /><br />This is an A-Grade food. What you'll find here is very high protein content, many meat meals, potatoes, salmon oil, flax seed, and no grains, which is great as a cat is not an omnivore, it's a carnivore, and it simply does not need grains. It has 50 percent protein, which is among the highest you'll see in cat food. The first 4 ingredients are all meats.<br /><br />What you will NOT find here is the kind of junk you'll see in things like Purina One and Science Diet - byproducts (aka beaks, feathers, bird feet), brewers rice (aka the waste product from making beer), wheat flour (a leading cause of pet allergies), corn gluten (a cheap waste of space), and things like \"liver flavor\" (because they don't want to pay for the real thing). I didn't just pull those ingredients out of the air - I was reading the ingredients list of Purina One. It's pathetic.<br /><br />Don't feed your cats trash. Pay a little more to feed them good food now, and they'll lead longer, healthier, more satisfied lives as a result. It's worth it.\n",
      "\n",
      "Cluster #3\n",
      "\n",
      "Plain chocolate digestives are the exemplar of the British chocolate biscuit; McVitie were the inventors (in 1839 if you care about such historical facts) of this lovely Scottish (not English, please note!) confection, so these offered here can be regarded as definitive of their class. Whilst available in a <a href=\"http://www.amazon.com/gp/product/B000EZUAEW\">milk chocolate</a> variety, the plain (dark) chocolate version is by far to be preferred. It is a solid, satisfying mix of wholewheat cookie and bitter chocolate coating of the finest quality. Purists will, naturally, wish to stick to the <a href=\"http://www.amazon.com/gp/product/B000EZYB4W\">plain wholemeal digestive</a>, both those biscuit- or chocolate-lovers wishing to spoil themselves (and their waistline) will opt for these every time.<br /><br />American buyers may wish to remember that Digestive biscuits are officially classed in biscuit grading circles as the second most boring biscuit in the world (after <a href=\"http://www.amazon.com/gp/product/B000HY21K6\">Rich Tea</a> and ahead of <a href=\"http://www.amazon.com/gp/product/B000VJD5LQ\">Hobnobs</a>) so may take a little bit of getting used to, if you're not familiar with British biscuits. But I guarantee that after your second, you'll be addicted.  And then you'll wonder where the rest of the pack went.\n",
      "\n",
      "Bye heck, It's grand stuff this....Us Yorkshire tykes can't live wi'aut it. and't bottle's reight big unall.<br />Tuther places almost niver carry't bigum either, so thas stuck wi tons o't littleuns, not to mention they want a ton more brass and then thurs allus a load more for't shipping.<br />Now , if only I could getum to sell Dandelion & Burdock pop wi free shippin' tha could put me darn fo five dozen a month !!! Thank goodness there's a grand chippy just up't road..\n",
      "\n",
      "Blueberries and oats, ought to be tasty and good for you?  Nope, too good to be true.<br /><br />The cookie was crisp.  Not particularly oatmealy or like granola, but acceptable. Not too sweet which is a plus.  The filling was sweet and tart, a bit scant especially compared to the picture on the box.  But it had the tang of artificial flavor.<br /><br />And no wonder.  High fructose corn syrup city! Plus more sweeteners: sugar, dextrose, glycerin, sorbitol and maltodextrin. And brown sugar with more HFCS in the cookie.  Blueberries were far down the ingredients list- it appears to be apple based and there were four kinds of sugar listed before the blueberries.  The oils are not high quality, healthy oils. Not to mention food coloring.  Here is the list:<br /><br />INGREDIENTS:<br />Fruit Filling- [High Fructose Corn Syrup, Sugar, Apple Powder, Dextrose, Glycerin, Blueberry, Modified Corn Starch, Sorbitol, Maltodextrin, Pectin, Citric Acid, Salt, Palm Oil, Sodium Citrate (as pH control agent), Artificial Flavor, Potassium Sorbate (as preservative), FD&C Red 40, Malic Acid, Caramel Color, FD&C Blue 1]<br /><br />Cookie- Oat Flour, Enriched Flour (Wheat Flour, Niacinamide*, Reduced Iron, Thiamin Mononitrate*, Riboflavin*, Folic Acid*), Toasted Oats, Modified Corn Starch, Vegetable Oil, Shortening (Contains one or more of the following:Palm Oil, Sunflower Oil, Soybean Oil, Canola Oil), Wheat Gluten, Brown Sugar, High Fructose Corn Syrup, Leavening Agents (Sodium Bicarbonate, Aluminum Sodium Sulfate, Ammonium Bicarbonate), Iodized Salt, Soy Lecithin, Sodium Stearoyl Lactylate, Whey Protein, Caramel Color, Yeast, Rosemary Extract (as antioxidant), Sodium Metabisulfite, Zinc Oxide, Xanthan Gum, Ascorbyl Palmitate, Natural Mixed Tocopherols (PT000218-V2)<br />*One of the B Vitamins,<br /><br />Here is an idea:  how about making a blueberry bar out of blueberries?  Okay, a little sugar or sorbitol since they are pretty tart,but this is a sugar bar with incidental blueberries.<br /><br />And to make matters worse, the bars are made in Mexico. (Hey Quaker Oats, do you know how many times I've gotten e-coli from Mexican berries?)  Maybe that is why you didn't put many in the filling. How about making your food at home and using real ingredients?\n",
      "\n",
      "Cluster #4\n",
      "\n",
      "My four mixed breed dogs (40lbs-100lbs)gobble up Newman's Own dog treats.  But, these terrific dogs gobble up just about anything (except fresh green leafy vegetables), so perhaps their standards shouldn't be the mark of \"goodness\".<br /><br />I'm an ingredient list reader for all foods (human & animal), so that is what I did when I received the Newman's pet treats.  The ingredient list is short & consists of the following:<br /><br />Organic Barley, Organic Lamb, Organic Carrots, Organic Apples, Organic Palm Oil (Preserved with Mixed Tocopherois, a Source of Vitamin E), Organic Molasses<br /><br />The treats themselves are rectangular & scored in the middle.  They are 2\" x 1-/4\" for the full size & 1\" x 1-1/4\" for the 1/2 size.  They do not have a strong smell, but a hint of apple is noticeable (& a grain smell, which I presume is the barley).  My 10oz bag came with 18 full size treats.<br /><br />I like the rectangular shape of the treat.  Sometimes my large dogs get excited about treats & forget about \"nicely\".  With the rectangular shape, my hands won't fall victim to an enthusiastic chomp.  Since the treats are scored down the middle, I can break them down, so my older, smaller dogs can easily eat the treat.<br /><br />Overall, I think the ingredients are excellent for a dog treat, and it is nice that they are adaptable for different sized dogs.\n",
      "\n",
      "Cluster #5\n",
      "\n",
      "The weave of this cheesecloth is very loose; at least an 1/8\" between strands of cotton.  The weave also deforms so that 1/4\" objects can easily slip through.  I thought I could compensate with multiple layers but 8 layers proved inadequate to strain greek yogurt.  The yogurt simply oozed through the layers. Same with ricotta.  I was reluctant to return this item, but I simply couldn't think of anything to do with it.  Maybe a hard cheese, but I don't make these.\n",
      "\n",
      "Cluster #6\n",
      "\n",
      "Slow Food Italy has declared the Saffron from Navelli a rare treasure to be protected.<br />\"Production of DOP Navelli saffron demands an extraordinary degree of attention and dedication. This is immediately obvious when you consider that both harvesting and production, as undertaken by the Altopiano Cooperative of Navelli, is done by hand. It takes around two hundred thousand flowers to yield about two pounds  of saffron stamens.<br />The saffron is obtained and then the stigmas from the flower of the Crocus Sativus are dired. This plant is traditionally grown on the  Navelli plateau (wedged between the parks of the Gran Sasso and the Velino Sirente) and Subequana Valley, where the ideal habitat of dry and windy climate and with soil that is very permeable (excessive moisture would rot the plant).<br /><br />Harvesting is done manually in the early hours of the morning, when the corolla is still closed. Cut flowers are collected in wicker baskets and open with  fingernails one by one, separating the stigmas from the stylus.  Afterwards they place the pistils in a sieve that hangs on the hot ashes of the fireplace. The roasting must be slow and uneven. Then it is  enclosed in bags and when dry, in small jars.\" Translated from the Italian on the Slow Food Foundation for Biodiversity, Ark of Taste\n",
      "\n",
      "Cluster #7\n",
      "\n",
      "Rooibos is Afrikaans for \"red bush.\" Grown in South Africa's Cederburg Mountains and harvested during the summer, this tea acquires its unique red color as a result of fermentation (in mounds) and oxidization, when it is spread out to dry in the sunlight; naturally it is green.<br /><br />Rooibos is known for its health benefits stemming from its rich content in vitamins, antioxidants, flavanoids and minerals (inter alia, magnesium, calcium, iron, copper, zinc, potassium, fluoride, manganese and alpha-hydroxy) and has a long tradition of medicinal use among the local Native population; among other things, it is known to help cure asthma, hay fever and other allergies, acne, eczema, colics, indigestion, insomnia, and nervous tension. Containing very few tannins and no caffeine, rooibos has a distinctive aroma and amber color.<br /><br />This tea blends well with various spices and condiments; my favorite mixture is a delicious loose leaf blend sold by my local tea store, which features orange peel, cinnamon, grated coconut, finely minced chili and red pepper. For a more commercial alternative, though, Tazo's Red Bush tea is a great choice as well: a rich, exquisite blend of rooibos, hibiscus, orange peel, rosemary, several lemon ingredients (lemon myrtle, verbena and balm), as well as a number of sweet spices. Enjoy!\n",
      "\n",
      "Cluster #8\n",
      "\n",
      "I initially bought this when I was going through some whacked out 'stress' and now I just buy it for the flavor. This really is so yummers with a bit of raw honey. The aroma is heavenly too! The ginger/citrus flavor is very comforting.<br /><br />From Celestial Seasoning's website:<br /><br />About the Tea<br />A traditional ginger tea with a tranquil twist from chamomile, eleuthero and B-vitamins.<br />100% Natural<br />This product contains all-natural herbs and flavors, and no artificial colors or preservatives.<br /><br />Ingredients: Eleuthero, peppermint, cinnamon, ginger, chamomile, West Indian lemongrass, licorice, catnip, tilia flowers, natural lemon flavor with other natural flavors (contains soy lecithin), hops and Vitamins B6 and B12.<br />------<br /><br />A little fascinating tidbits about \"eleuthero\" I found on the net:<br /><br />The constituents in eleuthero that have been most studied are the eleutherosides. Seven primary eleutherosides have been identified, with most of the research attention focusing on eleutherosides B and E. Eleuthero also contains complex polysaccharides (complex sugar molecules). These constituents may play a critical role in eleuthero's ability to support immune function.<br /><br />Eleuthero is an \"adaptogen\" (an agent that helps the body adapt to stress). It is thought to help support adrenal gland function when the body is challenged by stress.<br /><br />Eleuthero has been shown to enhance mental acuity and physical endurance without the letdown that comes with caffeinated products. Research has shown that eleuthero improves the use of oxygen by the exercising muscle. This means that a person is able to maintain aerobic exercise longer and recover from workouts more quickly. Preliminary research from Russia indicates it may be effective for this purpose. Other trials have been inconclusive or have shown no beneficial effect.<br /><br />Eleuthero may also support the body by helping the liver detoxify harmful toxins. It has shown a protective action in animal studies against chemicals such as ethanol, sodium barbital, tetanus toxoid, and chemotherapeutic agents. According to a test tube study eleuthero also helps protect the body during radiation exposure. Preliminary research in Russia has suggested that eleuthero may help alleviate side effects and help the bone marrow recover more quickly in people undergoing chemotherapy and radiation therapy for cancer.<br /><br />Eleuthero has been shown to be effective as a treatment for the common cold when combined with andrographis in a formula sometimes referred to as Kan Jang. Preliminary evidence also suggests that eleuthero may prove valuable in the long-term management of various diseases of the immune system, including HIV infection and chronic fatigue syndrome. Healthy people taking 2 teaspoons (10 ml) of tincture three times daily have been shown to have increased numbers of the immune cells (T4 lymphocytes) that have been found to decrease during HIV-infection and AIDS. Further human clinical trials are needed to confirm that eleuthero may be helpful for this disease.<br />How to Use It<br /><br />Dried, powdered root and rhizomes, 2 to 3 grams per day, are commonly used. Alternatively, 300 to 400 mg per day of concentrated solid extract standardized on eleutherosides B and E can be used, as can alcohol-based extracts, 8 to 10 ml in two to three divided dosages. Kan Jang is a formula combining an andrographis extract with an eleuthero extract providing 2 to 2.4 mg eleutherosides daily. Historically, eleuthero is taken continuously for six to eight weeks, followed by a one- to two-week break before resuming.<br /><br />Kinda cool, eh? :)\n",
      "\n",
      "Cluster #9\n",
      "\n",
      "We love apple granola and try to eat Organic where we can..  So we did a shootout of Trader Joe's Organic Granny's Apple Granola, Nature's Path Love Crunch Organic Premium Granola, and <a href=\"http://www.amazon.com/gp/product/B000EDK5YY\">Bob's Red Mill Granola, Apple Cinnamon No Fat, 12-Ounce Bags (Pack of 4)</a>.  The three products list their serving size as three different sizes, 2/3 cup, 1/4 cup, and 1/2 cup.  So I normalized the macronutrients and sugars to a 1/2 cup serving for an \"apples to apples\" comparison.<br /><br />Trader Joes / Love Crunch / Bob's Red Mill<br />Cal 180 280 180<br />Fat 5.25 12 2.5<br />Carb 23.25 44 35<br />Sugar 6.75 12 4<br />Protein 3.75 4 5<br /><br />The interesting thing is that the Trader Joe's granola has hands down the best flavor, yet it has the lowest carbohydrate content.  Trader Joe's Granola tastes like an explosion of apples.  Next is the Love Crunch which has good apple flavor, but not nearly as good as the Trader Joes -- but with nearly twice the carbohydrates and sugar.  Finally the Bob's Red Mill Granola tastes nothing like apples.  Maybe if I held an apple slice under my nose while I ate it I could taste something -- but it really just tastes like slightly sweet granola.<br /><br />I do like the fact that Love Crunch includes Chia Seeds, but it has lots of other ingredients that I would rather avoid such as: rolled spelt (wheat)*, soy oil*, and rice starch*.<br /><br />Bob's Red Mill has the fewest ingredients -- if only the taste were on!  Trader Joe's has pretty good ingredients except for the corn syrup solids -- a big nono in my book but it is just above Salt (45mg of sodium) so it is probably a very small amount.<br /><br />In the end we chose the Trader Joe's as our favorite -- the lowest carbohydrate content and low sugars with the exceptional taste being the big draw.  After that we chose Love Crunch -- the best on Amazon when we can't visit the Trader Joe's 4 hours away.  Bob's Red Mill just doesn't taste anything like apples so we're skipping it.  If they made it taste more like apples we would pick it for the limited ingredients and lowest sugars -- but seeing as how my wife reaches for the honey when she eats Bob's Red Mill granola -- the low sugar is only temporary.\n",
      "\n",
      "Cluster #10\n",
      "\n",
      "Pesto Genovese is, without a doubt, my favorite pesto.  My family and I eat it on capelli d'angeli at least once every week.  We add a salad and a loaf of crusty Italian bread and the meal is simple but delicious beyond compare.<p>This brand of Pesto Genovese is one of my alltime favorites.  So many times, Peste Genovese can be too oily, covering up the taste of the basil and the pine nuts.  Not so with this pesto.  Every ingredient seems to be perfectly balanced so you get the freshest, most flavorful Pesto Genovese available.  The taste of the basil and the pine nuts is delicate, but so exquisite.<p>If you like Pesto Genovese or just want a change from more &quot;traditional&quot; tomato sauces, I urge you to give this pesto a try.  I don't think you can go wrong.\n",
      "\n",
      "Blend a little apple cider mix into your Tazo Passion Tea and see what happens. This creates a magical apple cider experience with hints of cranberry and hibiscus flowers gathered in an ancient land.<br /><br />Snuggle Up Spiced Cider is a good choice because you can then spoon in the exact amount you desire, but packets of cider work equally well. This is the type of tea you would expect to enjoy after skiing in some distant forest where you are also munching on homemade brownies or eggnog cookies. Apple cider also works very well with the Gypsy Teas, especially the Lemon Jasmine.<br /><br />The deep purple/red color and hibiscus fragrance of Tazo Tea is enough to make anyone passionate about tea. Yet, is this really tea? It looks like tea, but it is really an herbal infusion made by steeping hibiscus flowers, orange peel, licorice, cinnamon, rose hips, lemongrass and red poppy in a swirling of hot water.<br /><br />The original flavor is also slightly reminiscent of hot apple cider or hot cranberry juice which is why it is extra delicious with a cider mix. Tazo Teas are a mysterious experience into which you can lose yourself with a sense of abandon. So far I've tried more flavors than I can count and have always been impressed.<br /><br />~The Rebecca Review\n",
      "\n",
      "These chocolates are the most perfect container for the most tasty brandy I have ever had.  They are a wonderful sleeping pill at night or an evil after dinner treat.  My mouth is watering.\n",
      "\n",
      "I have tried many Tazo and this was a similar to a stronger Lotus. one thing to keep in mind is to not let it sit, otherwise it becomes strong and the next time that you add water to it, the flavor is bland.\n",
      "\n",
      "I bought a Senseo machine for the convenience of making one cup at a time but was underwhelmed by the coffee choices available.<br /><br />That is until I found the Kona coffee pods from Aloha Island.<br /><br />These are all I use now. They cost a little more but worth every penny if you want a very smooth, rich cup of pure Kona coffee these are the ones to buy.\n",
      "\n",
      "Without a doubt, these are the BEST Lemon Madeleines I have ever tasted.  The flavor is wonderfully true and the texture is so light and consistent.  You can't go wrong with these, whether you serve them at a high tea or enjoy them by yourself with your favorite beverage.\n",
      "\n",
      "I'm a big fan of the Aloha Island Gold Kona so I decided I should try the Diamond & Platinum this time.. so glad I did. The Diamond is a coffee unlike any I have ever had before. The flavor profile is earthy, woodsy and smoky, very complex and dense and rich while being extremely smooth and without any bitterness to it at all. The ulitmate for a true coffee lover. The platinum is wonderful too... It's a more delicate coffee but still with the rich smoothness that I have come to expect from this producer. I must try their espresso next....The presentation of the Diamond in the black silk bag is extraordinary as well. I have sent these to my clients for the holidays this year.\n",
      "\n",
      "Let me just say that I am so impressed with the Senseo machine.  I can never get coffee tasting just right, so the pod system really attracted me.  I kept debating between the Senseo and the HomeCafe.  It was a demo of the senseo that made me decide to go with it.  The Senseo brews a nice small cup of coffee that is nice and frothy.  It gives you the sensation of a cappuccino or latte after adding a little milk.  I adore the mild roast and the decaf roast.  I finally can have a great tasting cup of coffee whenever I want it!  It's perfect if you're a college student!\n",
      "\n",
      "The hazelnut flavor is a little on the light side, but thats the way I like it. It saves me some money on buying the flavored creamer for my senseo coffee. Now I just add milk and sugar and I'm set. I hope they will start making tea for my senseo soon.\n",
      "\n",
      "incredibly refreshing and a mystery in taste - little expensive but hey - why not?\n",
      "\n",
      "Cluster #11\n",
      "\n",
      "I have a 10 month old poodle pome lasa mix,she was very ill when I got her at 10 weeks(maybe she came from a puppy mill}.I had to feed her with a syringe to get some nutrition in her,she got better but still had a huge problem eating.I tried every high quality brand out there, I even made homemade dog food.She would eat a little but not enough for a growing puppy.The Dr Harveys power patties are a life saver.I add one to her dog food and she will eat it all up.This was a dog who would turn her nose up at steak.I cant thank Dr Harvey enough.I tried other Tripe products and she didnt like them.Dr Harveys is the only one out there WITH NO ADDED INGREDIENTS just Tripe.In Europe dogs thrive on Tripe alone so I know if she just ate that she would be fine.This dog means everything to me and when I couldnt get her to eat I was devastated .The power patties have eased my mind and my dog is doing wonderfully.\n",
      "\n",
      "Cluster #12\n",
      "\n",
      "I have been struggling with hormonal acne for a couple of years now. As an African-American, it leaves dark spots on my face. I tried aaaaallll the acne products out there that just made my skin dry, or would treat the acne, but wld still leave spots. If I tried lightening my spots, then I would breakout...a vicious looping cycle. I recently have been using natural products like African soap and unrefined shea butter which is more cost effective for me which work well, but still needed something to epedite the process. I decided to add THIS tea to my regimine, and I am hooked! I use 5 bags to make a gallon of cold tea to drink throughout the day. The taste was ok at first, but after a week, I noticed that I DONT BREAKOUT ANYMORE! The benefits outweigh the taste. And whats great as well is that my dark spots on my cheeks are getting lighter. My skin just glows, supple, and more even toned. My cleansers and moisturizers work for me instead of against me. I originally bought this at a whole food store, but saw that it was on Amazon, so now I am on autoship - never want to be without. This tea is a game changer for me....on my way to makeup optional skin!\n",
      "\n"
     ]
    }
   ],
   "source": [
    "for i in range(13):\n",
    "    print(\"Cluster #{}\\n\".format(i))\n",
    "    reviews_in_this_cluster = final['Text'][np.where(kmeans.labels_==i)[0]]\n",
    "    for review in reviews_in_this_cluster[:10]:\n",
    "        print(review + \"\\n\")"
   ]
  },
  {
   "cell_type": "markdown",
   "metadata": {
    "_uuid": "e828837b74b422404593620ad455a4e7fcb2da97",
    "collapsed": true
   },
   "source": [
    " ### observation\n",
    " ### cluster 1: dog foods\n",
    " ### cluster 2: pet foods\n",
    " ### cluster 9: apple prodcuts\n",
    " ### cluster 10: chocklet products\n",
    " ### cluster 12:moisturizer products\n",
    " ### cluster 11: dog foods"
   ]
  },
  {
   "cell_type": "markdown",
   "metadata": {
    "_uuid": "4711afa80ff58669ceb20ee42d1e0a2f33958a9d",
    "collapsed": true
   },
   "source": [
    " # k-means with avg-Word2Vec"
   ]
  },
  {
   "cell_type": "code",
   "execution_count": 43,
   "metadata": {
    "_uuid": "a83c6accbe3357d8dc89c95c73b4e3d9b14f02a5"
   },
   "outputs": [],
   "source": [
    " import gensim\n",
    "i=0\n",
    "list_of_sent=[]\n",
    "for sent in final['Text'].values:\n",
    "    filtered_sentence=[]\n",
    "    sent=cleanhtml(sent)\n",
    "    for w in sent.split():\n",
    "        for cleaned_words in cleanpunc(w).split():\n",
    "            if(cleaned_words.isalpha()):    \n",
    "                filtered_sentence.append(cleaned_words.lower())\n",
    "            else:\n",
    "                continue \n",
    "    list_of_sent.append(filtered_sentence)\n",
    "    "
   ]
  },
  {
   "cell_type": "code",
   "execution_count": 44,
   "metadata": {
    "_uuid": "9058e3c9228fdd75dae45829e7c9a43ca43b1f5f"
   },
   "outputs": [],
   "source": [
    "import gensim\n",
    "w2v_model=gensim.models.Word2Vec(list_of_sent,min_count=5,size=50, workers=4) "
   ]
  },
  {
   "cell_type": "code",
   "execution_count": 45,
   "metadata": {
    "_uuid": "f07dbf7e83e6c3d9a30e5ad657647b4346243a42"
   },
   "outputs": [
    {
     "name": "stderr",
     "output_type": "stream",
     "text": [
      "C:\\ProgramData\\Anaconda3\\lib\\site-packages\\ipykernel_launcher.py:13: RuntimeWarning: invalid value encountered in true_divide\n",
      "  del sys.path[0]\n"
     ]
    }
   ],
   "source": [
    " sent_vectors = []\n",
    "for sent in final['Text'].values: # for each review/sentence\n",
    "    sent_vec = np.zeros(50) # as word vectors are of zero length\n",
    "    cnt_words =0; # num of words with a valid vector in the sentence/review\n",
    "    for word in sent: # for each word in a review/sentence\n",
    "        \n",
    "        try:\n",
    "            vec = w2v_model.wv[word]\n",
    "            sent_vec += vec\n",
    "            cnt_words += 1\n",
    "        except:\n",
    "            pass\n",
    "    sent_vec /= cnt_words\n",
    "    sent_vectors.append(sent_vec)\n",
    " "
   ]
  },
  {
   "cell_type": "code",
   "execution_count": 46,
   "metadata": {
    "_uuid": "d4baece4360e7f5c7cd1cb3360961eb55b95dcf7"
   },
   "outputs": [],
   "source": [
    "sent_vectors=pd.DataFrame(sent_vectors)\n",
    "sent_vectors= sent_vectors.fillna(sent_vectors.median(axis=0))"
   ]
  },
  {
   "cell_type": "code",
   "execution_count": 47,
   "metadata": {
    "_uuid": "3c926e0225d56cb8b6713081f24a9816422c4cdb"
   },
   "outputs": [],
   "source": [
    "from sklearn import preprocessing\n",
    "sent_vectors=preprocessing.scale(sent_vectors,with_mean=False)"
   ]
  },
  {
   "cell_type": "code",
   "execution_count": 48,
   "metadata": {
    "_uuid": "d52861d999a5675e3b74e60e8df2fc7b350690cf"
   },
   "outputs": [],
   "source": [
    "wcss=[]\n",
    "from sklearn.cluster import KMeans\n",
    "for i in range(1, 20):\n",
    "    \n",
    "        \n",
    "    kmeans = KMeans(n_clusters = i, init = 'k-means++',random_state = 42)\n",
    "    kmeans.fit(sent_vectors)\n",
    "    wcss.append(kmeans.inertia_)"
   ]
  },
  {
   "cell_type": "code",
   "execution_count": 49,
   "metadata": {
    "_uuid": "e10d6906d3d03987bebd7cc7a17eefba2bfbbc22"
   },
   "outputs": [
    {
     "data": {
      "text/plain": [
       "Text(0,0.5,'Error Rate')"
      ]
     },
     "execution_count": 49,
     "metadata": {},
     "output_type": "execute_result"
    },
    {
     "data": {
      "image/png": "[encoded data removed]",
      "text/plain": [
       "<Figure size 720x432 with 1 Axes>"
      ]
     },
     "metadata": {},
     "output_type": "display_data"
    }
   ],
   "source": [
    " k=list(range(1,20))\n",
    "plt.figure(figsize=(10,6))\n",
    "plt.plot(k,wcss,color='blue', linestyle='dashed', marker='o', markerfacecolor='red', markersize=10)\n",
    "plt.grid()\n",
    "plt.title('Error Rate vs. K Value')\n",
    "plt.xlabel('K')\n",
    "plt.ylabel('Error Rate')"
   ]
  },
  {
   "cell_type": "markdown",
   "metadata": {},
   "source": [
    "### the best k is 8"
   ]
  },
  {
   "cell_type": "code",
   "execution_count": 52,
   "metadata": {
    "_uuid": "4cf502243b4c7c9e1c164def877028b5c588cb37"
   },
   "outputs": [
    {
     "data": {
      "text/plain": [
       "KMeans(algorithm='auto', copy_x=True, init='k-means++', max_iter=300,\n",
       "    n_clusters=8, n_init=10, n_jobs=1, precompute_distances='auto',\n",
       "    random_state=42, tol=0.0001, verbose=0)"
      ]
     },
     "execution_count": 52,
     "metadata": {},
     "output_type": "execute_result"
    }
   ],
   "source": [
    " kmeans = KMeans(n_clusters = 8, init = 'k-means++',random_state = 42)\n",
    "kmeans.fit(sent_vectors)"
   ]
  },
  {
   "cell_type": "code",
   "execution_count": 53,
   "metadata": {
    "_uuid": "b302f8e7bde4df1103c8889c07842d8335260aab"
   },
   "outputs": [
    {
     "name": "stdout",
     "output_type": "stream",
     "text": [
      "Cluster #0\n",
      "\n",
      "incredibly refreshing and a mystery in taste - little expensive but hey - why not?\n",
      "\n",
      "I like this soup.  One of the problems with low fat or healthy is it frequently means an inferior or different taste to the regular, not so healthy stuff.  This soup doesn't suffer that particular problem.  If you like classic to eat, this is a nice substitute.\n",
      "\n",
      "Not only does he love it but we never have a problem with separation anxiety when he sees his kong ball with the stuffin inside!\n",
      "\n",
      "Disgusting.  This is not anything like pasta so do not be fooled.  It is tofu and it smells and tastes like tofu.  If you do not particularly enjoy tofu, do not buy this product.\n",
      "\n",
      "Definitely a quick and easy entree. Authentic (according to my experience) Indian cuisine. But too spicey hot for my taste.\n",
      "\n",
      "Based on the mostly positive reviews, I purchased it. Well, believe the negative reviews. The cheap (think dollar store) glass teapot WITHOUT strainer holds 18 ounces. Since I just received this yesterday, I only used one flower which failed to bloom and the tea flavor was not impressive. The concept is unique, but way too pricey for what you get. As for the bamboo box, it is pretty but not really sufficiently sturdy to store anything except very light weight items.\n",
      "\n",
      "OH YES, this is puffed rice all right. BUT ITS BROWN RICE, not WHITE RICE PUFFED.<br /><br />and they don't tell you that up front.<br /><br />sorry, brown rice puffed, doesn't cut it for taste.<br /><br />there is nothing like white rice puffed rice for taste..<br /><br />now if they would make a frosted white puffed rice, it would sell.\n",
      "\n",
      "We have not received this as of yet.  It is expected to be shipped in February.\n",
      "\n",
      "I love this cereal; I eat it every morning with maple syrup or honey, raisins, and walnuts.  It is never pasty for me, as it is for the other reviewer, unless I let it cook way too long or let it sit to cool too long.  I cook it for five minutes, turn off the heat and let it thicken a couple of minutes more as I add my raisins and walnuts and maple syrup.  Then I stir in rice milk until I get it to the consistency I like.  Though I don't like rice milk by itself or on any other cereal, it does taste really good on this rice cereal, with the added benefit of making the whole thing easier to digest.  Rice cereal is the easiest cereal to digest, anyway, but adding rice milk instead of cow's milk makes it even more easier.\n",
      "\n",
      "I just made this soup for the first time, and it could not have been easier.  Add water, heat, and then garnish with a little cheese.<br /><br />I didn't find it terribly spicy hot. The chiles used are nice and mild.<br /><br />A tasty dinner indeed.\n",
      "\n",
      "Cluster #1\n",
      "\n",
      "I bought a Senseo machine for the convenience of making one cup at a time but was underwhelmed by the coffee choices available.<br /><br />That is until I found the Kona coffee pods from Aloha Island.<br /><br />These are all I use now. They cost a little more but worth every penny if you want a very smooth, rich cup of pure Kona coffee these are the ones to buy.\n",
      "\n",
      "My husband loves candy! I bought this for him for Valentine's day and he seemed to get a kick out of it. When he saw the box from Candy Crate, he was pretty excited. A fun gift for candy lovers out there.\n",
      "\n",
      "I'd love to know the kind of bars the first reviewer eats; because they must be some amazing bars! My entire office loves the Nugo bars. They are actually made a few doors down the street from my office. I think the coffee bars, chocolate blast, and banana bars are the best. Peanutbutter pleasers are good as well. I recommend them. I've had many of the regular store bought brands and find these to be more chocolaty and delicious. Good luck!\n",
      "\n",
      "I used to live close to Fastachi and went there often to purchase nuts for myself as well as friends and family for holidays and house warming. They roast the nuts there in the shop. The cashews just melt in your mouth they are so fresh. The mixes they offer are awesome. I personally love the cranberry nut mix. I was surprised and delighted to see they can be purchased here on Amazon! You won't be disappointed! Enjoy!\n",
      "\n",
      "Shipment arrived much faster than promised, was packed securely, excellent product.\n",
      "\n",
      "I followed the directions on the package and substituted egg replacer for the eggs and used soy milk.  I used a bread machine.  It turned out beautifully.  Tastes great!\n",
      "\n",
      "Tasty mix of sprouts.  Easy to grow.  I keep them in the freezer and expect this bag to last a very long time.\n",
      "\n",
      "Thank goodness for a decent tasting sweetener that doesn't turn into formaldehyde - - - or leave an after-taste!\n",
      "\n",
      "I live in the dorms without a kitchen so making a cup of coffee was really easy with this. Especially when I need to stay up late to study or to wake up after 2 hours of sleep. Its just like making tea and tastes decent enough. Not starbucks but good enough with some sugar and cream.\n",
      "\n",
      "I love the taste of these cookies but they were mostly just crumbs. I bought the dark chocolate  as well and thet hold together like a normal cookie. I got a second box of the PB and they were still just crumbs and flour rather than cookies.\n",
      "\n",
      "Cluster #2\n",
      "\n",
      "Blend a little apple cider mix into your Tazo Passion Tea and see what happens. This creates a magical apple cider experience with hints of cranberry and hibiscus flowers gathered in an ancient land.<br /><br />Snuggle Up Spiced Cider is a good choice because you can then spoon in the exact amount you desire, but packets of cider work equally well. This is the type of tea you would expect to enjoy after skiing in some distant forest where you are also munching on homemade brownies or eggnog cookies. Apple cider also works very well with the Gypsy Teas, especially the Lemon Jasmine.<br /><br />The deep purple/red color and hibiscus fragrance of Tazo Tea is enough to make anyone passionate about tea. Yet, is this really tea? It looks like tea, but it is really an herbal infusion made by steeping hibiscus flowers, orange peel, licorice, cinnamon, rose hips, lemongrass and red poppy in a swirling of hot water.<br /><br />The original flavor is also slightly reminiscent of hot apple cider or hot cranberry juice which is why it is extra delicious with a cider mix. Tazo Teas are a mysterious experience into which you can lose yourself with a sense of abandon. So far I've tried more flavors than I can count and have always been impressed.<br /><br />~The Rebecca Review\n",
      "\n",
      "I'm a big fan of the Aloha Island Gold Kona so I decided I should try the Diamond & Platinum this time.. so glad I did. The Diamond is a coffee unlike any I have ever had before. The flavor profile is earthy, woodsy and smoky, very complex and dense and rich while being extremely smooth and without any bitterness to it at all. The ulitmate for a true coffee lover. The platinum is wonderful too... It's a more delicate coffee but still with the rich smoothness that I have come to expect from this producer. I must try their espresso next....The presentation of the Diamond in the black silk bag is extraordinary as well. I have sent these to my clients for the holidays this year.\n",
      "\n",
      "Without a doubt, I would recommend this wholesome and sweet cereal treat to anyone. The crunchy o-shaped pieces are filled with crispy rice, graham cracker bits, and infused with delicious honey flavor. \"Oh! What a great cereal!\"\n",
      "\n",
      "I was looking to supplement my breastmilk, but was having a horrible time finding something that worked.  I tried at least 8 different formula's  including the new Alimentum, but this was the only formula that my son could tolerate physically and still tasted good to him.  You can buy this formula for cheaper at Walmart for $23/can.\n",
      "\n",
      "I happen to know this is a good product because I've used it before.  However, it has taken longer than the estimated delivery time for it to arrive. (And this is with Amazon Prime!!!)Further, whenever I enter the tracking number, I've gotten the following message--(for the past five days!!!)<br /><br />Your item was processed and left our SPRINGFIELD, MA 01152 facility on August 05, 2006. Information, if available, is updated every evening. Please check again later. It should not take five days for ANYTHING to get from Springfield, MA to Southern Maine.<br /><br />This was my first experience using Amazon Grocery, and I must say it was not a good one.  There should be reviews of the services they provide--for which they ARE responsible--and not the products they distribute for which they can take no real credit.\n",
      "\n",
      "Unfortunately most people are ill informed about vegan cats, including most veterinarians.<br /><br />Wild cats are in fact obligate carnivores. However, in domesticating the house cat and bringing it into our homes we have effectively removed the cat from its natural prey of mice, insects, birds, lizards, and other small creatures. During the past 100 years or so, as the human food industry was searching for a way to salvage and use all the waste materials from its processing lines, it came upon a wonderful solution. Lets boil it all up and dry it out and add it to the food we make for cats and dogs. As a result, the vast majority of commercial pet foods contain what are euphemistically referred to as the four D's, dead, dying, disabled, and diseased animals, along with other quite undesirable materials. Quite frankly, if you are feeding this junk to your pets, you are effectively poisoning them. We are seeing diseases in pets today that we have never seen before because of the wide variety of contaminated ingredients that are finding their way into the food we feed our companion animals. You know \"garbage in, garbage out!\"<br /><br />Now the issue here is not meat; it is about providing all the essential and non-essential amino acids (the building blocks of proteins) and vitamins and minerals that are bio-available to the particularly unique physiology of felids (cats). The quality, quantity, and availability of these nutrients can come from any source, and for those of us who are vegan, the best source is vegetable based.<br /><br />Tens of thousands, perhaps hundreds of thousands, of cats around the world live quite well on one of the several available vegan cat foods that are recognized as nutritionally complete. I personally have had 3 1/2 years of experience in feeding the Evolution kibble product that this review is addressing. It is a high quality product that is AAFCO certified as nutritionally complete for all life stages in cats. Not only is this product safe to feed your cat, but if you follow the recommended feeding procedures, you will find many benefits to both your cat's health and your wallet.<br /><br />If you desire more detailed information, I invite you to do a google search on vegan cats. I would put my web page information about this issue on this review, but it is against the policy for writing reviews on Amazon.<br /><br />Just for everyone's edification, I have researched this issue for well over 500 hours, read hundreds of technical papers, visited hundreds of web sites, and have made a commitment to specialize in feline nutrition as part of my Veterinary Technician studies. I probably know more about feline nutrition than 95% of all the vets in the world.<br /><br />My feline son is a vegan and will remain so because I am absolutely certain that his quality of life will be enhanced by his diet and that this choice will not be a detriment to his health.<br /><br />-------------------------------------<br /><br />Since writing this review in 2006 I have had a change in position about this particular product after 4 years of personal experience. The manufacturer of the Evolution foods was changing the formulation of the food on a regular basis and during that time I found that the Feline Kibble was not able to maintain the pH level in the urine of cats that was promised on the label and in their literature. At least that wasn't the case with my former feline son and my current feline son. As a result I can no longer recommend the use of Evolution Feline Kibble for male cats. Since urinary issues are different between male and female cats the Evolution Kibble MAY be satisfactory for feeding to female cats. Nutritionally the Evolution foods seem to be fine for nutrients but not necessarily adequate for maintaining the proper pH levels to avoid urinary issues for male cats.<br /><br />Consequently I am now recommending male cats use the Vegecat pH diet provided by Harbingers of a New Age. My son has been eating this food supplement in a specially prepared gluten formulation I created called a vegan feline roast. It is 62% protein, 33% fat, and 5% carbs and has a moisture content of about 60%. Almost a perfect combination of ingredients to mimic natural prey. My son finds this product to be very palatable and his urinary pH has been consistently at 6.4 for the three years that we have been producing and consuming this food. The drawback is that it takes about a half hour every 3 days to make the food and the cost is equivalent to a premium cat food. But on the other hand my son is trim, full of energy at 6 1/2 years, enjoys great health, no longer has urinary tract issues, and no other animal had to die in order to provide my son with life-giving nutrition.<br /><br />UPDATE:  4/17/11<br /><br />For those of you who are still considering feeding the Evolution kibble, please heed this warning.  Kibble is only 10% moisture content.  If you follow the directions given by the manufacturer to soak the kibble prior to feeding, you will end up with a mushy material that your cats may or may not like.  The danger in feeding the dry kibble is that your cat will eventually become so dehydrated that no amount of drinking will be sufficient to avoid hydration related illnesses.  Cats do not naturally drink water, they almost exclusively obtain all of their hydration from the food that they consume.  If they are eating something that only has 10% moisture, upon consumption the moisture that is contained within the digestive tract of the cat will be sucked into the food in order to give it enough fluidity to pass through the intestines.  This will often lead to gastro-intestinal diseases. Your cat will be constantly drinking water to make up for that deficiency, but no amount of drinking is enough to avoid the dehydration problem.  So please remember that the best source of moisture for your cat's health, comes from a wet food diet that is around 70% moisture.<br /><br />In October 2008 I wrote an article about vegan cats published in VegFamily magazine.  This information and more will help those who are interested in a vegan diet for cats understand more of the issues.<br /><br />UPDATE:  8/27/12<br /><br />My vegan feline son is now 8 years old and still maintains an extremely healthy life with absolutely no issues of any kind.  He has been using our Vegan Feline Roast product for the past 5 and 1/2 years and his lab tests indicate that his nutritional needs are being adequately met by his vegan diet.<br /><br />For those who are sceptical about a vegan diet for house cats, there is ample evidence that several vegan products are available to satisfy the nutritional needs of cats.  I am still not convinced that Evolution is a good product to feed based on my past history.  There are thousands of customers that seem to successfully feed the Evolution product; however, I believe that our Vegan Feline Roast Mix is a superior product that will yield far better results over the lifetime of feeding any house cat.  Our product is based on the Vegecat phi supplement offered by HOANA, which I have found to be an excellent product for hitting all of the missing nutritional elements that would otherwise come from meat.  The Vegecat product line has been successfully feeding thousands of cats over a 27 year period and we highly recommend the use of Vegecat for those people who wish to formulate their own vegan cat food.  The only difference between our food product and the HOANA vegecat product is that our product is a ready-to-make mix that has been specifically formulated for a high protein/high fat food that is easy to make and highly palatable to the vast majority of cats.<br /><br />I would caution people feeding the Evolution kibble to reconsider doing so.  The problem with kibble in general, not just the Evolution product, is the 10% moisture content of the food.  Cats that eat kibble exclusively will invariably become dehydrated and will not be able to consume enough water by drinking to avoid the condition.  Evolution kibble that is soaked with water prior to feeding, as recommended by the manufacturer, is an attempt to avoid this issue.  However, by soaking the product you will reduce the palatability quality to most cats and will make it harder for them to continue to want to eat the product.  This is a strategy to fix a problem that is inherent to the product itself.<br /><br />As time goes on, I become more convinced that using our Vegan Feline Roast product may in fact be a cure for diseases in cats like FLUTD and diabetes.  At some point in time I would like to perform a long term double blind scientifically significant study to support my empirical observations.  When my son started out 7 years ago eating Evolution kibble, he quickly developed a FLUTD condition, after 18 months of use, that cost $1500 at the vet to fix.  The last 5 1/2 years of eating nothing but our Vegan Feline Roast he has remained FLUTD free and maintains excellent health.  Just the savings alone from avoiding annual teeth cleaning has more than paid for itself in the use of our product.<br /><br />So my bottom line is to recommend not using Evolution Kibble in favor of either the HOANA vegecat supplement or our Vegan Feline Roast Mix.\n",
      "\n",
      "As a serial cereal eater, I have had my bouts of addiction throughout my life from Apple Jacks and Count Chocula during my early childhood through an extensive adolescence with Sugar-Frosted Flakes, a short-lived health-oriented period with Bran Flakes and of course, my self-deceptive dieting tactics using Special K. My latest has been Kashi's Heart to Heart, which I find flavorful and filling. There is a slightly sweet taste which has something to do with the light honey glaze on the Cheerio-looking rings, though the most pervasive flavor is a toasted oat. I don't find a need for sugar, but I do like to pile up blueberries if I have them in the fridge.<br /><br />I have to admit that I have used it as a dinner replacement on really lazy evenings. The best part is that the low-fat, low-sodium cereal is heart-friendly (thus the name) with one gram of soluble fiber per serving. The box claims 11 servings of 3/4 cup each, which for a cereal lover, is a stretch. I've been lucky to eke out eight bowls since I tend to overflow the bowl. Still, the calorie count is reasonable at 110 of which only 15 come from fat. For a price that is on par with local retailers, Amazon delivers the cereal in cases of six boxes, which I think is a reasonable medium-term amount.\n",
      "\n",
      "This is supposed to be all natural but HFCS is not all natural. I had to toss mine out, just could not eat it knowing it had High Fructose Corn Syrup.\n",
      "\n",
      "It was my favorite tea until the damned peppermint was added. Now it's a completely different tea! This new tea is not satisfying at all unless of course you want to feel like you're brushing your teeth instead of drinking tea.<br /><br />Celestial Seasonings really shouldn't claim this to be the same tea because it really isn't. That's too bad considering it got the company started and all. I just wish there was a way to get the tea without the peppermint but it'll probably never happen.\n",
      "\n",
      "I was very disappointed.  The cans were received terribly dented and I felt they were unsafe to use.  I will never order canned foods from this site again.\n",
      "\n",
      "Cluster #3\n",
      "\n",
      "You have no idea how many salchichon sandwiches I consumed while in Spain. Neither do I but it was a lot. Salchichon is somewhat like a hard salami but milder and less greasy. This particular product is pretty close to the salchichones I had in Spain. I prefer salchichon to chorizo for sandwiches but I prefer chorizo for eating as-is. Now someone just needs to open a good bakery around here that makes a good so-called \"french\" bread like the ones I had in Spain.\n",
      "\n",
      "We have three cats in the household, and they all LOVE these treats - in all flavors.  In fact, we rattle the bag to get the kitties to come in at night - almost always works.  One cat is fussy and won't eat any treats but these.<br /><br />I'm not sure how \"good\" the treats are for their health - the package says \"nutritionally complete and balanced\", and the ingredients include taurine which is essential for cats.  I suspect a diet including kibble, \"wet\" food and occasional treats is ideal.\n",
      "\n",
      "For those of us watching our carbs (particularly, if you've got diabetes), this stuff is amazing.  Just don't par-boil it, as they suggest on the package... instead, drain them, and throw them into whatever you're using as sauce.  I like them particularly with brocolli, onions, fat-free cream cheese (which makes a creamy kind of sauce when it melts) and parmesan.  Delish!\n",
      "\n",
      "This product made a great pasta dish without calories or carbs. Will buy again.\n",
      "\n",
      "If you're going to sip this lusciously delicious tea you might as well grab your kitty or puppy, a good book, blanket and snuggle up in the favorite armchair because good times are ahead!<br /><br />Having the pleasure of all ready trying out some of the Ahmad teas I was pretty sure this was a good purchase but it ended up being tasty beyond my predictions. This tea tastes like a wonderful black smooth tea with the succulent mouth watering flavors of juicy apricots. I prefer a black tea with fruit blend to herbal fruit teas when I want something soothing because the black tea give the fruit unparallel depth and character.<br /><br />This really bursts with flavor when sugar is added and it can be drank day and night. I'm really looking forward to tasting other Ahmad flavors like Strawberry and passion fruit and maybe their Earl Gray. This is easily one of my favorite teas and I can't see anyone not loving it from the first sip!\n",
      "\n",
      "I use this as an additive to green tea or oolong.  It's a soothing addition that takes it up a notch.\n",
      "\n",
      "These candies are not your typical kids sour candies...they have exotic flavors and not as tart as the others.\n",
      "\n",
      "I found this tea about 8 years ago, and it is now the only type of tea bag I use.  Unfortunately, in my area, there is only one supermarket chain that carries it, and they are frequently sold out of it.  Being able to purchase it from Amazon is a great convenience.\n",
      "\n",
      "This stuff is great!  Healthier and tastier than any other pasta that I've tried, (except for my mother in laws homemade).\n",
      "\n",
      "What else can I say.  This is the best tea bag available in the US for the serious( read addicted) Tea drinker.  If it's just too messy to deal with loose tea at work, PG Tips is the best alternative.  The only tea bag I rate above PG Tips is King Cole but unfortunately it's only available when you can con your Canadian friends to buy you some when they go home.\n",
      "\n",
      "Cluster #4\n",
      "\n",
      "Pesto Genovese is, without a doubt, my favorite pesto.  My family and I eat it on capelli d'angeli at least once every week.  We add a salad and a loaf of crusty Italian bread and the meal is simple but delicious beyond compare.<p>This brand of Pesto Genovese is one of my alltime favorites.  So many times, Peste Genovese can be too oily, covering up the taste of the basil and the pine nuts.  Not so with this pesto.  Every ingredient seems to be perfectly balanced so you get the freshest, most flavorful Pesto Genovese available.  The taste of the basil and the pine nuts is delicate, but so exquisite.<p>If you like Pesto Genovese or just want a change from more &quot;traditional&quot; tomato sauces, I urge you to give this pesto a try.  I don't think you can go wrong.\n",
      "\n",
      "These chocolates are the most perfect container for the most tasty brandy I have ever had.  They are a wonderful sleeping pill at night or an evil after dinner treat.  My mouth is watering.\n",
      "\n",
      "Let me just say that I am so impressed with the Senseo machine.  I can never get coffee tasting just right, so the pod system really attracted me.  I kept debating between the Senseo and the HomeCafe.  It was a demo of the senseo that made me decide to go with it.  The Senseo brews a nice small cup of coffee that is nice and frothy.  It gives you the sensation of a cappuccino or latte after adding a little milk.  I adore the mild roast and the decaf roast.  I finally can have a great tasting cup of coffee whenever I want it!  It's perfect if you're a college student!\n",
      "\n",
      "The hazelnut flavor is a little on the light side, but thats the way I like it. It saves me some money on buying the flavored creamer for my senseo coffee. Now I just add milk and sugar and I'm set. I hope they will start making tea for my senseo soon.\n",
      "\n",
      "The crunchy chocolate squares in this box were a real surprise and I love how delicate the crunch is when encased in a burst of delicious chocolate.<br /><br />You may also enjoy the Mint chocolates. They are delicious after dinner or anytime you want to wake up your taste buds. The mint flavor bursts from these chocolates as if it was encased in little sugar crystals. It is quite perfect and refreshing.<br /><br />I also love the Cinnamon and Orange. If you have been dreaming of the most delicious orange flavored chocolates in the world, you have to try the Orange Napolitains. I love both equally, although the cinnamon flavor has me completely seduced.<br /><br />I prefer to savor each piece of chocolate with a cup of coffee, tea or hot chocolate. The warmth of the beverage creates an entirely different experience than if you were to simply taste a square of chocolate on its own.<br /><br />Once your mouth is warmed, take a small bite of the chocolate square and enter Mint Chocolate Oblivion. The world stops for minutes at a time as you savor a mingling of the best cinnamon you have ever tasted with the silkiest creamiest Belgian chocolate in the world.<br /><br />My chocolates arrived fast and were as fresh as if I had purchased them in Belgium. They were carefully packaged in the famous gold boxes with signature wrapping and a ribbon. The boxes were then placed in protective Styrofoam containers to protect the chocolates during shipping. The expedited shipping is recommended from May to early September.<br /><br />~The Rebecca Review\n",
      "\n",
      "t's a close call, but if you're someone who eats breakfast in transit, Kashi Granola Bars have an edge over both the Nutrigrain too-sweet entries and the crumbly Nature Valley competitors. Neither a treat nor a treatment, Kashi Granola bars are light and just right--a way to get started without either residual guilt over a 7 A.M. candy bar or aversion to grandma's recommended fiber remedy. One warning: they go down easy, so don't take more than a single one with you in the car (or you could wind up scarfing down all six bars between traffic lights). Also, Amazon ships these three-buck packages in a generous-sized box, which may strike some consumers as ecologically irresponsible (wish I'd saved these boxes for a recent move of my mother-in-law. I think I ended up paying more for comparable new ones than the cost of the granola bars).\n",
      "\n",
      "The sorghum was delivered in a timely fashion and well packaged against breakage.  This pure full flavored syrup is old fashioned comfort food, a true taste of Americana.  The only folks I've found that know about sorghum also share my southern heritage.  Nothing goes better on fresh baked bisquits!!!\n",
      "\n",
      "THese bars were horrible. The worst tasting and looking bar that Kashi makes. I would suggest buying any of the other bars but not these.\n",
      "\n",
      "I discovered these a few months ago and now I eat them for breakfast everyday. The nutrition info is good and so is the taste.\n",
      "\n",
      "I have been craving these little candies for over a year and have not been able to find them at any stores, so I finally caved in and bought 200 of them online. It's a great buy. They are the same as I remembered and they come in their own container to keep them in.\n",
      "\n",
      "Cluster #5\n",
      "\n",
      "Without a doubt, these are the BEST Lemon Madeleines I have ever tasted.  The flavor is wonderfully true and the texture is so light and consistent.  You can't go wrong with these, whether you serve them at a high tea or enjoy them by yourself with your favorite beverage.\n",
      "\n",
      "Hey for under $20 it's a great little system for keeping your wine ready to serve.  No problems, caps clean in the dishwasher, seems to do a great job.  Nothing is going to be as good as a freshly opened bottle of wine but these come close!\n",
      "\n",
      "Ok, so you can cook up a bowl of chewy tasty brown rice for a lot less than the $2 this will cost you.  But it will take you the better part of an hour, and won't be any better than this rice which takes only 90 seconds.  So keep the non-instant brown rice around for those times when time isn't of the essence, and keep this around for when you need a quick, delicious bowl in less than two minutes.  It's really that simple.\n",
      "\n",
      "While I felt that the chedder powder was flavourful, it mixed well for sauces but it did not work well for popcorn. It was a little too salty for my taste\n",
      "\n",
      "No matter how many different types of coffee I try for my Keurig, the Sumatran Bold is always one of the ones I come back to.  Flavorful, rubust, rich but not bitter.  This is the one I go to when I want a nice strong cup.<br /><br />In milder times, I enjoy the Columbian Supremo from Timothy's and Breakfast Blend from Green Mountain.<br /><br />Give this a shot!\n",
      "\n",
      "These chocolates are one of the very best one can get. The problem is the price in the USA.<br /><br />In Belgium they cost only 16.50 Euros a Kilo (approx 2.2 lbs)= USD 22.00.<br /><br />Transport is expensive because they travel cooled...\n",
      "\n",
      "I've tried a number of decaf teas (6 at last count, I think) and this is my favorite.  It's got body and depth of flavor with subtle hints of souchong, yet soft without the acidic taste some teas have.  Highly recommended.\n",
      "\n",
      "For older kids, even high school, this would be a great starter story for them to read and then make their own fortune cookies, inserting their own fortunes before the hot smooth cookies harden. A nice end note explains some of the original of the Fortune cookie as Japanese, not Chinese, but the overall charm of the book is its celebration of the traditions of the messages inside the cookies. If you didn't want to make fortune cookies from scratch in a classroom, you might just settle for everyone having a fortune cookie (available in most large groceries) and sharing their fortunes over a cup of nice tea. Also, check out Dim Sum for Everyone, also celebrating cultural food experiences for all ages.\n",
      "\n",
      "Out of every microwave popcorn I have ever tried, Newman's Own is the best ever!  Just look at the ingredients and you'll know why it's #1 on my shelf!<br /><br />Enjoy<br /><br />Carla\n",
      "\n",
      "I bought this product because it is the best mustard out. I used to be able to buy it locally but they stopped selling it. That didn't stop me as I was determined to buy some and thanks to the internet, I did.\n",
      "\n",
      "Cluster #6\n",
      "\n",
      "I have tried many Tazo and this was a similar to a stronger Lotus. one thing to keep in mind is to not let it sit, otherwise it becomes strong and the next time that you add water to it, the flavor is bland.\n",
      "\n",
      "Tassimo does all the work for you and Twinings has really hit a home run with their blending for these discs. Hands down, this is the BEST Earl Grey I've ever had!\n",
      "\n",
      "Try Dimitri's if you want a five star mix - you provide your own tomato juice (or Clamato and lime juice for a great Caesar!), add a couple of squirts to taste, and you're in business.\n",
      "\n",
      "I took these into the office and they were a hit. Good assortment of flavors, tasty, and vitamin fortified is a nice benefit. Would be five stars, but a little pricey, especially with shipping.\n",
      "\n",
      "I got a hankering again for these treats and had trouble finding them anywhere except online.  These are the original article, with a bite that will get your attention immediately.  Love 'em.\n",
      "\n",
      "Based on my daughter's opinion, I am giving this tea 5 stars.  She asked me to buy her this as a Christmas gift.\n",
      "\n",
      "The cinnamon flavor in this hot chocolate is similar to those little red hot candies.  The flavor is not overpowering (and it is not hot).  It is a good mix of chocolate and cinnamon.\n",
      "\n",
      "With 5 kids it's not easy to please all of them at the same time.  This variety box has all the right flavors.  They are crisp and fresh and come in flavors my kids like.  Good deal with the $10 off coupon.\n",
      "\n",
      "This is my all time favorite Assam tea (other than the kind I can find in London) and it seems to be hard to find in the stores. I am a very serious tea drinker and I love being able to buy it in bulk like this. Excellent find.\n",
      "\n",
      "After trying and not liking the Spirulina flavor, I compared the nutritional data of all RR bars and specifically chose the Raspberry flavor for its lowest fat content. I still find it too greasy to enjoy it.\n",
      "\n",
      "Cluster #7\n",
      "\n",
      "If you have a Senseo machine (and frankly, if you are a coffee lover and do not live above a Starbucks, you NEED one) these are the pods to use.<br /><br />Rich, flavourful and designed to work with your machine!\n",
      "\n",
      "These bars don't have all the preservatives and junk that is in many other brands, and the taste is great!  I grab them whenever I crave chocolate or am on the run.  I highly recommend them, especially for those watching their sugar and/or carb intake.\n",
      "\n",
      "Dealing with an allery to corn isn't easy, but these lollipops sure make it seem a lot easier.  They're wonderfully flavored, organic, and made by a company who honestly cares about its customers.  These are a great find and a staple of my house. They're just awesome, its hard to believe they're corn-free.\n",
      "\n",
      "One of my guilty pleasures.  I've had baklava from many places and of many types.  I'm less enthused about those made with rose or orange flavored sugar water, and love that made with honey.  These are a spiced honey and walnut combination.  For those who prefer pistachios, however, these may not impress.\n",
      "\n",
      "Sometimes it's necessary to turn away from so-popular blends, and enjoy this old-fashioned classic. It has nice body, and does not leave stains as much as other bagged teas. It allows to make a cup of very decent tea fast, however it's not as good as one made from loose bulk tea.\n",
      "\n",
      "I ordered a case to make chex mix for the holidays and they were perfect, arrived on time, and tasted great.\n",
      "\n",
      "The toasted marshmallow Jelly Beans are irresistible and possibly the best flavor ever! What more can one say?<br /><br />These are creamy, and while they are sweeter than a real toasted marshmallow, these are worth searching for in any bag of mixed jelly beans.<br /><br />~The Rebecca Review\n",
      "\n",
      "Excellent product and such a handy way to buy it!  Amazon to the rescur, again!\n",
      "\n",
      "I'm a big fan of beef jerky and was gifted with a \"works\" machine. I was amazed at the ease of mixing the seasoning and meat and the great flavor of the end product.\n",
      "\n",
      "Love this cracker, and way less expensive here than at my local store.\n",
      "\n"
     ]
    }
   ],
   "source": [
    "   for i in range(8):\n",
    "    print(\"Cluster #{}\\n\".format(i))\n",
    "    reviews_in_this_cluster = final['Text'][np.where(kmeans.labels_==i)[0]]\n",
    "    for review in reviews_in_this_cluster[:10]:\n",
    "        print(review + \"\\n\")"
   ]
  },
  {
   "cell_type": "markdown",
   "metadata": {
    "_uuid": "ac9dd7334e9fa9b78236e2b01d62364b20bb2999",
    "collapsed": true
   },
   "source": [
    " ### observation\n",
    " ### cluster 0: soup products\n",
    " ### cluster 1: coffee bar\n",
    " ### cluster 2: sandwitch \n",
    " ### cluster 4: chocklet products\n",
    " ### cluster 5:lemon products\n",
    " ### cluster 6: tea prodcut\n",
    " ### cluster 7: toffee products\n",
    " "
   ]
  },
  {
   "cell_type": "code",
   "execution_count": null,
   "metadata": {
    "_uuid": "6795d7c133d65b0c20c8a7f12737eea6a580efa2",
    "collapsed": true
   },
   "outputs": [],
   "source": [
    " "
   ]
  }
 ],
 "metadata": {
  "kernelspec": {
   "display_name": "Python 3",
   "language": "python",
   "name": "python3"
  },
  "language_info": {
   "codemirror_mode": {
    "name": "ipython",
    "version": 3
   },
   "file_extension": ".py",
   "mimetype": "text/x-python",
   "name": "python",
   "nbconvert_exporter": "python",
   "pygments_lexer": "ipython3",
   "version": "3.6.5"
  }
 },
 "nbformat": 4,
 "nbformat_minor": 1
}
